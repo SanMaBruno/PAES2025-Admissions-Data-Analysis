{
 "cells": [
  {
   "cell_type": "markdown",
   "metadata": {},
   "source": [
    "# Visualización de la Distribución de Estudiantes por Sexo, Rama Educacional y Región\n",
    "\n",
    "## 1. Importación de Librerías\n",
    "\n",
    "En esta primera sección, importamos las librerías necesarias para manipular los datos y realizar las visualizaciones. Se utiliza **pandas** para la manipulación de datos y **plotly.express** para la creación de gráficos interactivos."
   ]
  },
  {
   "cell_type": "code",
   "execution_count": 111,
   "metadata": {},
   "outputs": [],
   "source": [
    "import pandas as pd\n",
    "import plotly.express as px\n",
    "import plotly.graph_objects as go"
   ]
  },
  {
   "cell_type": "markdown",
   "metadata": {},
   "source": [
    "\n",
    "## 2. Carga de Datos\n",
    "\n",
    "A continuación, cargamos los datos procesados del archivo CSV que contiene la información de los estudiantes inscritos en el proceso de admisión PAES 2025. Estos datos ya han sido previamente limpiados y estructurados en un archivo CSV."
   ]
  },
  {
   "cell_type": "code",
   "execution_count": 112,
   "metadata": {},
   "outputs": [],
   "source": [
    "# Función para cargar los datos\n",
    "def cargar_datos(file: str) -> pd.DataFrame:\n",
    "    return pd.read_csv(file)\n",
    "\n",
    "# Ruta del archivo CSV\n",
    "file_path = 'C:/Users/BS/Documents/PAES2025_Admissions_Analysis/data/processed/cleaned_admissions_data_2025.csv'\n",
    "data = cargar_datos(file_path)"
   ]
  },
  {
   "cell_type": "markdown",
   "metadata": {},
   "source": [
    "## 3. Mapeo de Variables\n",
    "\n",
    "Para mejorar la legibilidad de los datos, se realiza el mapeo de valores numéricos a categorías. En esta sección, asignamos nombres descriptivos a las ramas educacionales y las regiones, así como a los valores correspondientes al sexo (1 = Hombre, 2 = Mujer)."
   ]
  },
  {
   "cell_type": "code",
   "execution_count": 113,
   "metadata": {},
   "outputs": [],
   "source": [
    "data['sexo'] = data['sexo'].map({1: 'Hombre', 2: 'Mujer'})"
   ]
  },
  {
   "cell_type": "markdown",
   "metadata": {},
   "source": [
    "### Mapeo de Ramas Educacionales:\n"
   ]
  },
  {
   "cell_type": "code",
   "execution_count": 114,
   "metadata": {},
   "outputs": [],
   "source": [
    "# Diccionario para mapear ramas educacionales\n",
    "rama_educacional_mapping = {\n",
    "    'H1': 'Humanista científico Diurno',\n",
    "    'H2': 'Humanista científico Nocturno',\n",
    "    'H3': 'Humanista científico - validación de estudios',\n",
    "    'H4': 'Humanista científico - Reconocimiento de estudios',\n",
    "    'T1': 'Técnico profesional comercial',\n",
    "    'T2': 'Técnico profesional Industrial',\n",
    "    'T3': 'Técnico profesional Servicios y técnica',\n",
    "    'T4': 'Técnico profesional agrícola',\n",
    "    'T5': 'Técnico profesional Marítima'\n",
    "}\n",
    "data['rama_educacional'] = data['rama_educacional'].map(rama_educacional_mapping)"
   ]
  },
  {
   "cell_type": "markdown",
   "metadata": {},
   "source": [
    "### Mapeo de Regiones:\n"
   ]
  },
  {
   "cell_type": "code",
   "execution_count": 115,
   "metadata": {},
   "outputs": [],
   "source": [
    "# Diccionario para mapear regiones\n",
    "region_mapping = {\n",
    "    15: 'Región de Arica y Parinacota',\n",
    "    1: 'Región de Tarapacá',\n",
    "    2: 'Región de Antofagasta',\n",
    "    3: 'Región de Atacama',\n",
    "    4: 'Región de Coquimbo',\n",
    "    5: 'Región de Valparaíso',\n",
    "    13: 'Región Metropolitana de Santiago',\n",
    "    6: 'Región del Libertador General Bernardo O\\'Higgins',\n",
    "    7: 'Región del Maule',\n",
    "    16: 'Región de Ñuble',\n",
    "    8: 'Región del Biobío',\n",
    "    9: 'Región de La Araucanía',\n",
    "    14: 'Región de Los Ríos',\n",
    "    10: 'Región de Los Lagos',\n",
    "    11: 'Región de Aysén del General Carlos Ibáñez del Campo',\n",
    "    12: 'Región de Magallanes y de la Antártica Chilena'\n",
    "}\n",
    "data['codigo_region'] = data['codigo_region'].map(region_mapping)"
   ]
  },
  {
   "cell_type": "markdown",
   "metadata": {},
   "source": [
    "## 4. Cálculo de la Distribución\n",
    "\n",
    "Calculamos la distribución de los estudiantes agrupados por sexo, rama educacional y región. También se calcula el porcentaje de cada grupo con respecto al total de estudiantes de cada sexo."
   ]
  },
  {
   "cell_type": "code",
   "execution_count": 116,
   "metadata": {},
   "outputs": [],
   "source": [
    "# Función para calcular la distribución\n",
    "def calcular_distribucion(data: pd.DataFrame) -> pd.DataFrame:\n",
    "    distribution = data.groupby(['sexo', 'rama_educacional', 'codigo_region']).size().reset_index(name='count')\n",
    "    total_by_sex = distribution.groupby('sexo')['count'].transform('sum')\n",
    "    distribution['percentage'] = round((distribution['count'] / total_by_sex) * 100, 2)\n",
    "    distribution['label_with_percentage'] = (distribution['rama_educacional'] + '<br>' \n",
    "                                             + distribution['codigo_region'])\n",
    "    distribution['general_label'] = 'Distribución de estudiantes por sexo'\n",
    "    return distribution\n",
    "\n",
    "# Calculamos la distribución\n",
    "distribution = calcular_distribucion(data)"
   ]
  },
  {
   "cell_type": "markdown",
   "metadata": {},
   "source": [
    "## 5. Visualización con Treemap\n",
    "\n",
    "Utilizamos un gráfico treemap para visualizar la distribución de los estudiantes, clasificándolos por sexo, rama educacional y región. Cada cuadro en el gráfico representa un subconjunto de estudiantes, y el tamaño del cuadro está relacionado con el porcentaje de ese grupo dentro de su categoría.\n",
    "\n",
    "Los colores se asignan según el sexo, con azul para los hombres y rosa para las mujeres, facilitando la identificación visual."
   ]
  },
  {
   "cell_type": "code",
   "execution_count": 118,
   "metadata": {},
   "outputs": [
    {
     "data": {
      "application/vnd.plotly.v1+json": {
       "config": {
        "plotlyServerURL": "https://plot.ly"
       },
       "data": [
        {
         "branchvalues": "total",
         "customdata": [
          [
           3794,
           40.66
          ],
          [
           5151,
           35.98
          ],
          [
           288,
           3.0900000000000003
          ],
          [
           411,
           2.87
          ],
          [
           127,
           1.36
          ],
          [
           226,
           1.58
          ],
          [
           89,
           0.9500000000000001
          ],
          [
           144,
           1.01
          ],
          [
           71,
           0.76
          ],
          [
           69,
           0.48
          ],
          [
           355,
           3.8000000000000003
          ],
          [
           641,
           4.48
          ],
          [
           541,
           5.800000000000001
          ],
          [
           800,
           5.59
          ],
          [
           328,
           3.52
          ],
          [
           573,
           4
          ],
          [
           162,
           1.74
          ],
          [
           253,
           1.77
          ],
          [
           70,
           0.75
          ],
          [
           112,
           0.78
          ],
          [
           92,
           0.99
          ],
          [
           136,
           0.9500000000000001
          ],
          [
           504,
           5.4
          ],
          [
           901,
           6.290000000000001
          ],
          [
           245,
           2.63
          ],
          [
           392,
           2.74
          ],
          [
           912,
           9.77
          ],
          [
           1570,
           10.97
          ],
          [
           442,
           4.74
          ],
          [
           741,
           5.18
          ],
          [
           576,
           6.17
          ],
          [
           1000,
           6.98
          ],
          [
           76,
           0.81
          ],
          [
           90,
           0.63
          ],
          [
           5,
           0.05000000000000001
          ],
          [
           4,
           0.03
          ],
          [
           9,
           0.10000000000000002
          ],
          [
           16,
           0.11
          ],
          [
           9,
           0.10000000000000002
          ],
          [
           9,
           0.06
          ],
          [
           11,
           0.12
          ],
          [
           14,
           0.10000000000000002
          ],
          [
           7,
           0.08
          ],
          [
           3,
           0.02
          ],
          [
           120,
           1.29
          ],
          [
           44,
           0.31
          ],
          [
           27,
           0.29
          ],
          [
           16,
           0.11
          ],
          [
           18,
           0.19
          ],
          [
           16,
           0.11
          ],
          [
           18,
           0.19
          ],
          [
           7,
           0.05000000000000001
          ],
          [
           17,
           0.18
          ],
          [
           4,
           0.03
          ],
          [
           17,
           0.18
          ],
          [
           6,
           0.04
          ],
          [
           25,
           0.27
          ],
          [
           14,
           0.10000000000000002
          ],
          [
           53,
           0.57
          ],
          [
           15,
           0.10000000000000002
          ],
          [
           33,
           0.35
          ],
          [
           33,
           0.23
          ],
          [
           38,
           0.41
          ],
          [
           24,
           0.17
          ],
          [
           26,
           0.28
          ],
          [
           164,
           1.15
          ],
          [
           2,
           0.02
          ],
          [
           11,
           0.08
          ],
          [
           10,
           0.11
          ],
          [
           44,
           0.31
          ],
          [
           5,
           0.05000000000000001
          ],
          [
           29,
           0.20000000000000004
          ],
          [
           6,
           0.06
          ],
          [
           12,
           0.08
          ],
          [
           4,
           0.04
          ],
          [
           27,
           0.19
          ],
          [
           10,
           0.07
          ],
          [
           3,
           0.03
          ],
          [
           17,
           0.12
          ],
          [
           1,
           0.01
          ],
          [
           34,
           0.24
          ],
          [
           6,
           0.06
          ],
          [
           41,
           0.29
          ],
          [
           10,
           0.11
          ],
          [
           57,
           0.4000000000000001
          ],
          [
           8,
           0.09
          ],
          [
           3,
           0.02
          ],
          [
           3,
           0.03
          ],
          [
           5,
           0.03
          ],
          [
           58,
           0.62
          ],
          [
           135,
           0.94
          ],
          [
           14,
           0.15
          ],
          [
           28,
           0.20000000000000004
          ],
          [
           5,
           0.05000000000000001
          ],
          [
           39,
           0.27
          ],
          [
           10,
           0.11
          ],
          [
           18,
           0.13
          ],
          [
           4,
           0.04
          ],
          [
           24,
           0.17
          ],
          [
           3,
           0.03
          ],
          [
           5,
           0.03
          ],
          [
           6,
           0.06
          ],
          [
           10,
           0.07
          ],
          [
           4,
           0.04
          ],
          [
           8,
           0.06
          ],
          [
           31,
           0.33
          ],
          [
           61,
           0.42999999999999994
          ],
          [
           16,
           0.17
          ],
          [
           48,
           0.34
          ],
          [
           17,
           0.18
          ],
          [
           52,
           0.36
          ],
          [
           "(?)",
           19.276025205041005
          ],
          [
           "(?)",
           16.249470158952313
          ],
          [
           "(?)",
           17.762369381530924
          ]
         ],
         "domain": {
          "x": [
           0,
           1
          ],
          "y": [
           0,
           1
          ]
         },
         "hovertemplate": "labels=%{label}<br>percentage_sum=%{value}<br>parent=%{parent}<br>id=%{id}<br>count=%{customdata[0]}<br>Distribución de estudiantes en %=%{color}<extra></extra>",
         "ids": [
          "Distribución de estudiantes por sexo/Hombre/Humanista científico Diurno<br>Región Metropolitana de Santiago",
          "Distribución de estudiantes por sexo/Mujer/Humanista científico Diurno<br>Región Metropolitana de Santiago",
          "Distribución de estudiantes por sexo/Hombre/Humanista científico Diurno<br>Región de Antofagasta",
          "Distribución de estudiantes por sexo/Mujer/Humanista científico Diurno<br>Región de Antofagasta",
          "Distribución de estudiantes por sexo/Hombre/Humanista científico Diurno<br>Región de Arica y Parinacota",
          "Distribución de estudiantes por sexo/Mujer/Humanista científico Diurno<br>Región de Arica y Parinacota",
          "Distribución de estudiantes por sexo/Hombre/Humanista científico Diurno<br>Región de Atacama",
          "Distribución de estudiantes por sexo/Mujer/Humanista científico Diurno<br>Región de Atacama",
          "Distribución de estudiantes por sexo/Hombre/Humanista científico Diurno<br>Región de Aysén del General Carlos Ibáñez del Campo",
          "Distribución de estudiantes por sexo/Mujer/Humanista científico Diurno<br>Región de Aysén del General Carlos Ibáñez del Campo",
          "Distribución de estudiantes por sexo/Hombre/Humanista científico Diurno<br>Región de Coquimbo",
          "Distribución de estudiantes por sexo/Mujer/Humanista científico Diurno<br>Región de Coquimbo",
          "Distribución de estudiantes por sexo/Hombre/Humanista científico Diurno<br>Región de La Araucanía",
          "Distribución de estudiantes por sexo/Mujer/Humanista científico Diurno<br>Región de La Araucanía",
          "Distribución de estudiantes por sexo/Hombre/Humanista científico Diurno<br>Región de Los Lagos",
          "Distribución de estudiantes por sexo/Mujer/Humanista científico Diurno<br>Región de Los Lagos",
          "Distribución de estudiantes por sexo/Hombre/Humanista científico Diurno<br>Región de Los Ríos",
          "Distribución de estudiantes por sexo/Mujer/Humanista científico Diurno<br>Región de Los Ríos",
          "Distribución de estudiantes por sexo/Hombre/Humanista científico Diurno<br>Región de Magallanes y de la Antártica Chilena",
          "Distribución de estudiantes por sexo/Mujer/Humanista científico Diurno<br>Región de Magallanes y de la Antártica Chilena",
          "Distribución de estudiantes por sexo/Hombre/Humanista científico Diurno<br>Región de Tarapacá",
          "Distribución de estudiantes por sexo/Mujer/Humanista científico Diurno<br>Región de Tarapacá",
          "Distribución de estudiantes por sexo/Hombre/Humanista científico Diurno<br>Región de Valparaíso",
          "Distribución de estudiantes por sexo/Mujer/Humanista científico Diurno<br>Región de Valparaíso",
          "Distribución de estudiantes por sexo/Hombre/Humanista científico Diurno<br>Región de Ñuble",
          "Distribución de estudiantes por sexo/Mujer/Humanista científico Diurno<br>Región de Ñuble",
          "Distribución de estudiantes por sexo/Hombre/Humanista científico Diurno<br>Región del Biobío",
          "Distribución de estudiantes por sexo/Mujer/Humanista científico Diurno<br>Región del Biobío",
          "Distribución de estudiantes por sexo/Hombre/Humanista científico Diurno<br>Región del Libertador General Bernardo O'Higgins",
          "Distribución de estudiantes por sexo/Mujer/Humanista científico Diurno<br>Región del Libertador General Bernardo O'Higgins",
          "Distribución de estudiantes por sexo/Hombre/Humanista científico Diurno<br>Región del Maule",
          "Distribución de estudiantes por sexo/Mujer/Humanista científico Diurno<br>Región del Maule",
          "Distribución de estudiantes por sexo/Hombre/Humanista científico Nocturno<br>Región Metropolitana de Santiago",
          "Distribución de estudiantes por sexo/Mujer/Humanista científico Nocturno<br>Región Metropolitana de Santiago",
          "Distribución de estudiantes por sexo/Hombre/Humanista científico Nocturno<br>Región de Coquimbo",
          "Distribución de estudiantes por sexo/Mujer/Humanista científico Nocturno<br>Región de Coquimbo",
          "Distribución de estudiantes por sexo/Hombre/Humanista científico Nocturno<br>Región de La Araucanía",
          "Distribución de estudiantes por sexo/Mujer/Humanista científico Nocturno<br>Región de La Araucanía",
          "Distribución de estudiantes por sexo/Hombre/Humanista científico Nocturno<br>Región de Los Lagos",
          "Distribución de estudiantes por sexo/Mujer/Humanista científico Nocturno<br>Región de Los Lagos",
          "Distribución de estudiantes por sexo/Hombre/Humanista científico Nocturno<br>Región del Biobío",
          "Distribución de estudiantes por sexo/Mujer/Humanista científico Nocturno<br>Región del Biobío",
          "Distribución de estudiantes por sexo/Hombre/Humanista científico Nocturno<br>Región del Libertador General Bernardo O'Higgins",
          "Distribución de estudiantes por sexo/Mujer/Humanista científico Nocturno<br>Región del Libertador General Bernardo O'Higgins",
          "Distribución de estudiantes por sexo/Hombre/Técnico profesional Industrial<br>Región Metropolitana de Santiago",
          "Distribución de estudiantes por sexo/Mujer/Técnico profesional Industrial<br>Región Metropolitana de Santiago",
          "Distribución de estudiantes por sexo/Hombre/Técnico profesional Industrial<br>Región de Antofagasta",
          "Distribución de estudiantes por sexo/Mujer/Técnico profesional Industrial<br>Región de Antofagasta",
          "Distribución de estudiantes por sexo/Hombre/Técnico profesional Industrial<br>Región de Atacama",
          "Distribución de estudiantes por sexo/Mujer/Técnico profesional Industrial<br>Región de Atacama",
          "Distribución de estudiantes por sexo/Hombre/Técnico profesional Industrial<br>Región de Coquimbo",
          "Distribución de estudiantes por sexo/Mujer/Técnico profesional Industrial<br>Región de Coquimbo",
          "Distribución de estudiantes por sexo/Hombre/Técnico profesional Industrial<br>Región de La Araucanía",
          "Distribución de estudiantes por sexo/Mujer/Técnico profesional Industrial<br>Región de La Araucanía",
          "Distribución de estudiantes por sexo/Hombre/Técnico profesional Industrial<br>Región de Los Lagos",
          "Distribución de estudiantes por sexo/Mujer/Técnico profesional Industrial<br>Región de Los Lagos",
          "Distribución de estudiantes por sexo/Hombre/Técnico profesional Industrial<br>Región de Valparaíso",
          "Distribución de estudiantes por sexo/Mujer/Técnico profesional Industrial<br>Región de Valparaíso",
          "Distribución de estudiantes por sexo/Hombre/Técnico profesional Industrial<br>Región del Biobío",
          "Distribución de estudiantes por sexo/Mujer/Técnico profesional Industrial<br>Región del Biobío",
          "Distribución de estudiantes por sexo/Hombre/Técnico profesional Industrial<br>Región del Libertador General Bernardo O'Higgins",
          "Distribución de estudiantes por sexo/Mujer/Técnico profesional Industrial<br>Región del Libertador General Bernardo O'Higgins",
          "Distribución de estudiantes por sexo/Hombre/Técnico profesional Industrial<br>Región del Maule",
          "Distribución de estudiantes por sexo/Mujer/Técnico profesional Industrial<br>Región del Maule",
          "Distribución de estudiantes por sexo/Hombre/Técnico profesional Servicios y técnica<br>Región Metropolitana de Santiago",
          "Distribución de estudiantes por sexo/Mujer/Técnico profesional Servicios y técnica<br>Región Metropolitana de Santiago",
          "Distribución de estudiantes por sexo/Hombre/Técnico profesional Servicios y técnica<br>Región de Antofagasta",
          "Distribución de estudiantes por sexo/Mujer/Técnico profesional Servicios y técnica<br>Región de Antofagasta",
          "Distribución de estudiantes por sexo/Hombre/Técnico profesional Servicios y técnica<br>Región de La Araucanía",
          "Distribución de estudiantes por sexo/Mujer/Técnico profesional Servicios y técnica<br>Región de La Araucanía",
          "Distribución de estudiantes por sexo/Hombre/Técnico profesional Servicios y técnica<br>Región de Los Lagos",
          "Distribución de estudiantes por sexo/Mujer/Técnico profesional Servicios y técnica<br>Región de Los Lagos",
          "Distribución de estudiantes por sexo/Hombre/Técnico profesional Servicios y técnica<br>Región de Los Ríos",
          "Distribución de estudiantes por sexo/Mujer/Técnico profesional Servicios y técnica<br>Región de Los Ríos",
          "Distribución de estudiantes por sexo/Hombre/Técnico profesional Servicios y técnica<br>Región de Tarapacá",
          "Distribución de estudiantes por sexo/Mujer/Técnico profesional Servicios y técnica<br>Región de Tarapacá",
          "Distribución de estudiantes por sexo/Mujer/Técnico profesional Servicios y técnica<br>Región de Valparaíso",
          "Distribución de estudiantes por sexo/Hombre/Técnico profesional Servicios y técnica<br>Región de Ñuble",
          "Distribución de estudiantes por sexo/Mujer/Técnico profesional Servicios y técnica<br>Región de Ñuble",
          "Distribución de estudiantes por sexo/Hombre/Técnico profesional Servicios y técnica<br>Región del Biobío",
          "Distribución de estudiantes por sexo/Mujer/Técnico profesional Servicios y técnica<br>Región del Biobío",
          "Distribución de estudiantes por sexo/Hombre/Técnico profesional Servicios y técnica<br>Región del Libertador General Bernardo O'Higgins",
          "Distribución de estudiantes por sexo/Mujer/Técnico profesional Servicios y técnica<br>Región del Libertador General Bernardo O'Higgins",
          "Distribución de estudiantes por sexo/Hombre/Técnico profesional Servicios y técnica<br>Región del Maule",
          "Distribución de estudiantes por sexo/Mujer/Técnico profesional Servicios y técnica<br>Región del Maule",
          "Distribución de estudiantes por sexo/Hombre/Técnico profesional agrícola<br>Región de Los Lagos",
          "Distribución de estudiantes por sexo/Mujer/Técnico profesional agrícola<br>Región de Los Lagos",
          "Distribución de estudiantes por sexo/Hombre/Técnico profesional agrícola<br>Región del Maule",
          "Distribución de estudiantes por sexo/Mujer/Técnico profesional agrícola<br>Región del Maule",
          "Distribución de estudiantes por sexo/Hombre/Técnico profesional comercial<br>Región Metropolitana de Santiago",
          "Distribución de estudiantes por sexo/Mujer/Técnico profesional comercial<br>Región Metropolitana de Santiago",
          "Distribución de estudiantes por sexo/Hombre/Técnico profesional comercial<br>Región de Antofagasta",
          "Distribución de estudiantes por sexo/Mujer/Técnico profesional comercial<br>Región de Antofagasta",
          "Distribución de estudiantes por sexo/Hombre/Técnico profesional comercial<br>Región de Coquimbo",
          "Distribución de estudiantes por sexo/Mujer/Técnico profesional comercial<br>Región de Coquimbo",
          "Distribución de estudiantes por sexo/Hombre/Técnico profesional comercial<br>Región de La Araucanía",
          "Distribución de estudiantes por sexo/Mujer/Técnico profesional comercial<br>Región de La Araucanía",
          "Distribución de estudiantes por sexo/Hombre/Técnico profesional comercial<br>Región de Los Lagos",
          "Distribución de estudiantes por sexo/Mujer/Técnico profesional comercial<br>Región de Los Lagos",
          "Distribución de estudiantes por sexo/Hombre/Técnico profesional comercial<br>Región de Los Ríos",
          "Distribución de estudiantes por sexo/Mujer/Técnico profesional comercial<br>Región de Los Ríos",
          "Distribución de estudiantes por sexo/Hombre/Técnico profesional comercial<br>Región de Valparaíso",
          "Distribución de estudiantes por sexo/Mujer/Técnico profesional comercial<br>Región de Valparaíso",
          "Distribución de estudiantes por sexo/Hombre/Técnico profesional comercial<br>Región de Ñuble",
          "Distribución de estudiantes por sexo/Mujer/Técnico profesional comercial<br>Región de Ñuble",
          "Distribución de estudiantes por sexo/Hombre/Técnico profesional comercial<br>Región del Biobío",
          "Distribución de estudiantes por sexo/Mujer/Técnico profesional comercial<br>Región del Biobío",
          "Distribución de estudiantes por sexo/Hombre/Técnico profesional comercial<br>Región del Libertador General Bernardo O'Higgins",
          "Distribución de estudiantes por sexo/Mujer/Técnico profesional comercial<br>Región del Libertador General Bernardo O'Higgins",
          "Distribución de estudiantes por sexo/Hombre/Técnico profesional comercial<br>Región del Maule",
          "Distribución de estudiantes por sexo/Mujer/Técnico profesional comercial<br>Región del Maule",
          "Distribución de estudiantes por sexo/Hombre",
          "Distribución de estudiantes por sexo/Mujer",
          "Distribución de estudiantes por sexo"
         ],
         "labels": [
          "Humanista científico Diurno<br>Región Metropolitana de Santiago",
          "Humanista científico Diurno<br>Región Metropolitana de Santiago",
          "Humanista científico Diurno<br>Región de Antofagasta",
          "Humanista científico Diurno<br>Región de Antofagasta",
          "Humanista científico Diurno<br>Región de Arica y Parinacota",
          "Humanista científico Diurno<br>Región de Arica y Parinacota",
          "Humanista científico Diurno<br>Región de Atacama",
          "Humanista científico Diurno<br>Región de Atacama",
          "Humanista científico Diurno<br>Región de Aysén del General Carlos Ibáñez del Campo",
          "Humanista científico Diurno<br>Región de Aysén del General Carlos Ibáñez del Campo",
          "Humanista científico Diurno<br>Región de Coquimbo",
          "Humanista científico Diurno<br>Región de Coquimbo",
          "Humanista científico Diurno<br>Región de La Araucanía",
          "Humanista científico Diurno<br>Región de La Araucanía",
          "Humanista científico Diurno<br>Región de Los Lagos",
          "Humanista científico Diurno<br>Región de Los Lagos",
          "Humanista científico Diurno<br>Región de Los Ríos",
          "Humanista científico Diurno<br>Región de Los Ríos",
          "Humanista científico Diurno<br>Región de Magallanes y de la Antártica Chilena",
          "Humanista científico Diurno<br>Región de Magallanes y de la Antártica Chilena",
          "Humanista científico Diurno<br>Región de Tarapacá",
          "Humanista científico Diurno<br>Región de Tarapacá",
          "Humanista científico Diurno<br>Región de Valparaíso",
          "Humanista científico Diurno<br>Región de Valparaíso",
          "Humanista científico Diurno<br>Región de Ñuble",
          "Humanista científico Diurno<br>Región de Ñuble",
          "Humanista científico Diurno<br>Región del Biobío",
          "Humanista científico Diurno<br>Región del Biobío",
          "Humanista científico Diurno<br>Región del Libertador General Bernardo O'Higgins",
          "Humanista científico Diurno<br>Región del Libertador General Bernardo O'Higgins",
          "Humanista científico Diurno<br>Región del Maule",
          "Humanista científico Diurno<br>Región del Maule",
          "Humanista científico Nocturno<br>Región Metropolitana de Santiago",
          "Humanista científico Nocturno<br>Región Metropolitana de Santiago",
          "Humanista científico Nocturno<br>Región de Coquimbo",
          "Humanista científico Nocturno<br>Región de Coquimbo",
          "Humanista científico Nocturno<br>Región de La Araucanía",
          "Humanista científico Nocturno<br>Región de La Araucanía",
          "Humanista científico Nocturno<br>Región de Los Lagos",
          "Humanista científico Nocturno<br>Región de Los Lagos",
          "Humanista científico Nocturno<br>Región del Biobío",
          "Humanista científico Nocturno<br>Región del Biobío",
          "Humanista científico Nocturno<br>Región del Libertador General Bernardo O'Higgins",
          "Humanista científico Nocturno<br>Región del Libertador General Bernardo O'Higgins",
          "Técnico profesional Industrial<br>Región Metropolitana de Santiago",
          "Técnico profesional Industrial<br>Región Metropolitana de Santiago",
          "Técnico profesional Industrial<br>Región de Antofagasta",
          "Técnico profesional Industrial<br>Región de Antofagasta",
          "Técnico profesional Industrial<br>Región de Atacama",
          "Técnico profesional Industrial<br>Región de Atacama",
          "Técnico profesional Industrial<br>Región de Coquimbo",
          "Técnico profesional Industrial<br>Región de Coquimbo",
          "Técnico profesional Industrial<br>Región de La Araucanía",
          "Técnico profesional Industrial<br>Región de La Araucanía",
          "Técnico profesional Industrial<br>Región de Los Lagos",
          "Técnico profesional Industrial<br>Región de Los Lagos",
          "Técnico profesional Industrial<br>Región de Valparaíso",
          "Técnico profesional Industrial<br>Región de Valparaíso",
          "Técnico profesional Industrial<br>Región del Biobío",
          "Técnico profesional Industrial<br>Región del Biobío",
          "Técnico profesional Industrial<br>Región del Libertador General Bernardo O'Higgins",
          "Técnico profesional Industrial<br>Región del Libertador General Bernardo O'Higgins",
          "Técnico profesional Industrial<br>Región del Maule",
          "Técnico profesional Industrial<br>Región del Maule",
          "Técnico profesional Servicios y técnica<br>Región Metropolitana de Santiago",
          "Técnico profesional Servicios y técnica<br>Región Metropolitana de Santiago",
          "Técnico profesional Servicios y técnica<br>Región de Antofagasta",
          "Técnico profesional Servicios y técnica<br>Región de Antofagasta",
          "Técnico profesional Servicios y técnica<br>Región de La Araucanía",
          "Técnico profesional Servicios y técnica<br>Región de La Araucanía",
          "Técnico profesional Servicios y técnica<br>Región de Los Lagos",
          "Técnico profesional Servicios y técnica<br>Región de Los Lagos",
          "Técnico profesional Servicios y técnica<br>Región de Los Ríos",
          "Técnico profesional Servicios y técnica<br>Región de Los Ríos",
          "Técnico profesional Servicios y técnica<br>Región de Tarapacá",
          "Técnico profesional Servicios y técnica<br>Región de Tarapacá",
          "Técnico profesional Servicios y técnica<br>Región de Valparaíso",
          "Técnico profesional Servicios y técnica<br>Región de Ñuble",
          "Técnico profesional Servicios y técnica<br>Región de Ñuble",
          "Técnico profesional Servicios y técnica<br>Región del Biobío",
          "Técnico profesional Servicios y técnica<br>Región del Biobío",
          "Técnico profesional Servicios y técnica<br>Región del Libertador General Bernardo O'Higgins",
          "Técnico profesional Servicios y técnica<br>Región del Libertador General Bernardo O'Higgins",
          "Técnico profesional Servicios y técnica<br>Región del Maule",
          "Técnico profesional Servicios y técnica<br>Región del Maule",
          "Técnico profesional agrícola<br>Región de Los Lagos",
          "Técnico profesional agrícola<br>Región de Los Lagos",
          "Técnico profesional agrícola<br>Región del Maule",
          "Técnico profesional agrícola<br>Región del Maule",
          "Técnico profesional comercial<br>Región Metropolitana de Santiago",
          "Técnico profesional comercial<br>Región Metropolitana de Santiago",
          "Técnico profesional comercial<br>Región de Antofagasta",
          "Técnico profesional comercial<br>Región de Antofagasta",
          "Técnico profesional comercial<br>Región de Coquimbo",
          "Técnico profesional comercial<br>Región de Coquimbo",
          "Técnico profesional comercial<br>Región de La Araucanía",
          "Técnico profesional comercial<br>Región de La Araucanía",
          "Técnico profesional comercial<br>Región de Los Lagos",
          "Técnico profesional comercial<br>Región de Los Lagos",
          "Técnico profesional comercial<br>Región de Los Ríos",
          "Técnico profesional comercial<br>Región de Los Ríos",
          "Técnico profesional comercial<br>Región de Valparaíso",
          "Técnico profesional comercial<br>Región de Valparaíso",
          "Técnico profesional comercial<br>Región de Ñuble",
          "Técnico profesional comercial<br>Región de Ñuble",
          "Técnico profesional comercial<br>Región del Biobío",
          "Técnico profesional comercial<br>Región del Biobío",
          "Técnico profesional comercial<br>Región del Libertador General Bernardo O'Higgins",
          "Técnico profesional comercial<br>Región del Libertador General Bernardo O'Higgins",
          "Técnico profesional comercial<br>Región del Maule",
          "Técnico profesional comercial<br>Región del Maule",
          "Hombre",
          "Mujer",
          "Distribución de estudiantes por sexo"
         ],
         "marker": {
          "coloraxis": "coloraxis",
          "colors": [
           40.66,
           35.98,
           3.0900000000000003,
           2.87,
           1.36,
           1.58,
           0.9500000000000001,
           1.01,
           0.76,
           0.48,
           3.8000000000000003,
           4.48,
           5.800000000000001,
           5.59,
           3.52,
           4,
           1.74,
           1.77,
           0.75,
           0.78,
           0.99,
           0.9500000000000001,
           5.4,
           6.290000000000001,
           2.63,
           2.74,
           9.77,
           10.97,
           4.74,
           5.18,
           6.17,
           6.98,
           0.81,
           0.63,
           0.05000000000000001,
           0.03,
           0.10000000000000002,
           0.11,
           0.10000000000000002,
           0.06,
           0.12,
           0.10000000000000002,
           0.08,
           0.02,
           1.29,
           0.31,
           0.29,
           0.11,
           0.19,
           0.11,
           0.19,
           0.05000000000000001,
           0.18,
           0.03,
           0.18,
           0.04,
           0.27,
           0.10000000000000002,
           0.57,
           0.10000000000000002,
           0.35,
           0.23,
           0.41,
           0.17,
           0.28,
           1.15,
           0.02,
           0.08,
           0.11,
           0.31,
           0.05000000000000001,
           0.20000000000000004,
           0.06,
           0.08,
           0.04,
           0.19,
           0.07,
           0.03,
           0.12,
           0.01,
           0.24,
           0.06,
           0.29,
           0.11,
           0.4000000000000001,
           0.09,
           0.02,
           0.03,
           0.03,
           0.62,
           0.94,
           0.15,
           0.20000000000000004,
           0.05000000000000001,
           0.27,
           0.11,
           0.13,
           0.04,
           0.17,
           0.03,
           0.03,
           0.06,
           0.07,
           0.04,
           0.06,
           0.33,
           0.42999999999999994,
           0.17,
           0.34,
           0.18,
           0.36,
           19.276025205041005,
           16.249470158952313,
           17.762369381530924
          ],
          "line": {
           "width": 2
          }
         },
         "name": "",
         "parents": [
          "Distribución de estudiantes por sexo/Hombre",
          "Distribución de estudiantes por sexo/Mujer",
          "Distribución de estudiantes por sexo/Hombre",
          "Distribución de estudiantes por sexo/Mujer",
          "Distribución de estudiantes por sexo/Hombre",
          "Distribución de estudiantes por sexo/Mujer",
          "Distribución de estudiantes por sexo/Hombre",
          "Distribución de estudiantes por sexo/Mujer",
          "Distribución de estudiantes por sexo/Hombre",
          "Distribución de estudiantes por sexo/Mujer",
          "Distribución de estudiantes por sexo/Hombre",
          "Distribución de estudiantes por sexo/Mujer",
          "Distribución de estudiantes por sexo/Hombre",
          "Distribución de estudiantes por sexo/Mujer",
          "Distribución de estudiantes por sexo/Hombre",
          "Distribución de estudiantes por sexo/Mujer",
          "Distribución de estudiantes por sexo/Hombre",
          "Distribución de estudiantes por sexo/Mujer",
          "Distribución de estudiantes por sexo/Hombre",
          "Distribución de estudiantes por sexo/Mujer",
          "Distribución de estudiantes por sexo/Hombre",
          "Distribución de estudiantes por sexo/Mujer",
          "Distribución de estudiantes por sexo/Hombre",
          "Distribución de estudiantes por sexo/Mujer",
          "Distribución de estudiantes por sexo/Hombre",
          "Distribución de estudiantes por sexo/Mujer",
          "Distribución de estudiantes por sexo/Hombre",
          "Distribución de estudiantes por sexo/Mujer",
          "Distribución de estudiantes por sexo/Hombre",
          "Distribución de estudiantes por sexo/Mujer",
          "Distribución de estudiantes por sexo/Hombre",
          "Distribución de estudiantes por sexo/Mujer",
          "Distribución de estudiantes por sexo/Hombre",
          "Distribución de estudiantes por sexo/Mujer",
          "Distribución de estudiantes por sexo/Hombre",
          "Distribución de estudiantes por sexo/Mujer",
          "Distribución de estudiantes por sexo/Hombre",
          "Distribución de estudiantes por sexo/Mujer",
          "Distribución de estudiantes por sexo/Hombre",
          "Distribución de estudiantes por sexo/Mujer",
          "Distribución de estudiantes por sexo/Hombre",
          "Distribución de estudiantes por sexo/Mujer",
          "Distribución de estudiantes por sexo/Hombre",
          "Distribución de estudiantes por sexo/Mujer",
          "Distribución de estudiantes por sexo/Hombre",
          "Distribución de estudiantes por sexo/Mujer",
          "Distribución de estudiantes por sexo/Hombre",
          "Distribución de estudiantes por sexo/Mujer",
          "Distribución de estudiantes por sexo/Hombre",
          "Distribución de estudiantes por sexo/Mujer",
          "Distribución de estudiantes por sexo/Hombre",
          "Distribución de estudiantes por sexo/Mujer",
          "Distribución de estudiantes por sexo/Hombre",
          "Distribución de estudiantes por sexo/Mujer",
          "Distribución de estudiantes por sexo/Hombre",
          "Distribución de estudiantes por sexo/Mujer",
          "Distribución de estudiantes por sexo/Hombre",
          "Distribución de estudiantes por sexo/Mujer",
          "Distribución de estudiantes por sexo/Hombre",
          "Distribución de estudiantes por sexo/Mujer",
          "Distribución de estudiantes por sexo/Hombre",
          "Distribución de estudiantes por sexo/Mujer",
          "Distribución de estudiantes por sexo/Hombre",
          "Distribución de estudiantes por sexo/Mujer",
          "Distribución de estudiantes por sexo/Hombre",
          "Distribución de estudiantes por sexo/Mujer",
          "Distribución de estudiantes por sexo/Hombre",
          "Distribución de estudiantes por sexo/Mujer",
          "Distribución de estudiantes por sexo/Hombre",
          "Distribución de estudiantes por sexo/Mujer",
          "Distribución de estudiantes por sexo/Hombre",
          "Distribución de estudiantes por sexo/Mujer",
          "Distribución de estudiantes por sexo/Hombre",
          "Distribución de estudiantes por sexo/Mujer",
          "Distribución de estudiantes por sexo/Hombre",
          "Distribución de estudiantes por sexo/Mujer",
          "Distribución de estudiantes por sexo/Mujer",
          "Distribución de estudiantes por sexo/Hombre",
          "Distribución de estudiantes por sexo/Mujer",
          "Distribución de estudiantes por sexo/Hombre",
          "Distribución de estudiantes por sexo/Mujer",
          "Distribución de estudiantes por sexo/Hombre",
          "Distribución de estudiantes por sexo/Mujer",
          "Distribución de estudiantes por sexo/Hombre",
          "Distribución de estudiantes por sexo/Mujer",
          "Distribución de estudiantes por sexo/Hombre",
          "Distribución de estudiantes por sexo/Mujer",
          "Distribución de estudiantes por sexo/Hombre",
          "Distribución de estudiantes por sexo/Mujer",
          "Distribución de estudiantes por sexo/Hombre",
          "Distribución de estudiantes por sexo/Mujer",
          "Distribución de estudiantes por sexo/Hombre",
          "Distribución de estudiantes por sexo/Mujer",
          "Distribución de estudiantes por sexo/Hombre",
          "Distribución de estudiantes por sexo/Mujer",
          "Distribución de estudiantes por sexo/Hombre",
          "Distribución de estudiantes por sexo/Mujer",
          "Distribución de estudiantes por sexo/Hombre",
          "Distribución de estudiantes por sexo/Mujer",
          "Distribución de estudiantes por sexo/Hombre",
          "Distribución de estudiantes por sexo/Mujer",
          "Distribución de estudiantes por sexo/Hombre",
          "Distribución de estudiantes por sexo/Mujer",
          "Distribución de estudiantes por sexo/Hombre",
          "Distribución de estudiantes por sexo/Mujer",
          "Distribución de estudiantes por sexo/Hombre",
          "Distribución de estudiantes por sexo/Mujer",
          "Distribución de estudiantes por sexo/Hombre",
          "Distribución de estudiantes por sexo/Mujer",
          "Distribución de estudiantes por sexo/Hombre",
          "Distribución de estudiantes por sexo/Mujer",
          "Distribución de estudiantes por sexo",
          "Distribución de estudiantes por sexo",
          ""
         ],
         "textfont": {
          "size": 18
         },
         "textinfo": "label+text+value",
         "texttemplate": "%{label}<br>%{value}%",
         "tiling": {
          "pad": 1,
          "squarifyratio": 1
         },
         "type": "treemap",
         "values": [
          40.66,
          35.98,
          3.09,
          2.87,
          1.36,
          1.58,
          0.95,
          1.01,
          0.76,
          0.48,
          3.8,
          4.48,
          5.8,
          5.59,
          3.52,
          4,
          1.74,
          1.77,
          0.75,
          0.78,
          0.99,
          0.95,
          5.4,
          6.29,
          2.63,
          2.74,
          9.77,
          10.97,
          4.74,
          5.18,
          6.17,
          6.98,
          0.81,
          0.63,
          0.05,
          0.03,
          0.1,
          0.11,
          0.1,
          0.06,
          0.12,
          0.1,
          0.08,
          0.02,
          1.29,
          0.31,
          0.29,
          0.11,
          0.19,
          0.11,
          0.19,
          0.05,
          0.18,
          0.03,
          0.18,
          0.04,
          0.27,
          0.1,
          0.57,
          0.1,
          0.35,
          0.23,
          0.41,
          0.17,
          0.28,
          1.15,
          0.02,
          0.08,
          0.11,
          0.31,
          0.05,
          0.2,
          0.06,
          0.08,
          0.04,
          0.19,
          0.07,
          0.03,
          0.12,
          0.01,
          0.24,
          0.06,
          0.29,
          0.11,
          0.4,
          0.09,
          0.02,
          0.03,
          0.03,
          0.62,
          0.94,
          0.15,
          0.2,
          0.05,
          0.27,
          0.11,
          0.13,
          0.04,
          0.17,
          0.03,
          0.03,
          0.06,
          0.07,
          0.04,
          0.06,
          0.33,
          0.43,
          0.17,
          0.34,
          0.18,
          0.36,
          99.97999999999999,
          100.03,
          200.01
         ]
        }
       ],
       "layout": {
        "annotations": [
         {
          "font": {
           "color": "black",
           "family": "Econ Sans Cnd",
           "size": 26
          },
          "showarrow": false,
          "text": "<b>Distribución de Estudiantes por Sexo, Rama Educacional y Región</b>",
          "x": 0,
          "xanchor": "left",
          "xref": "paper",
          "y": 1.15,
          "yanchor": "top",
          "yref": "paper"
         },
         {
          "font": {
           "color": "gray",
           "family": "Econ Sans Cnd",
           "size": 22
          },
          "showarrow": false,
          "text": "<b>Análisis de Admisiones PAES 2025</b>",
          "x": 0,
          "xanchor": "left",
          "xref": "paper",
          "y": 1.1,
          "yanchor": "top",
          "yref": "paper"
         },
         {
          "font": {
           "color": "#a2a2a2",
           "family": "Econ Sans Cnd",
           "size": 18
          },
          "showarrow": false,
          "text": "<b>Fuente: Datos de Admisiones PAES 2025, Ministerio de Educación de Chile</b>",
          "x": 0,
          "xanchor": "left",
          "xref": "paper",
          "y": -0.05,
          "yanchor": "bottom",
          "yref": "paper"
         },
         {
          "font": {
           "color": "#a2a2a2",
           "family": "Econ Sans Cnd",
           "size": 18
          },
          "showarrow": false,
          "text": "<b>Nota: Datos correspondientes al proceso de admisión 2025</b>",
          "x": 1,
          "xanchor": "right",
          "xref": "paper",
          "y": -0.05,
          "yanchor": "bottom",
          "yref": "paper"
         }
        ],
        "coloraxis": {
         "colorbar": {
          "len": 0.42,
          "orientation": "h",
          "thickness": 17,
          "tickfont": {
           "size": 16
          },
          "ticklen": 10,
          "ticks": "outside",
          "ticktext": [
           "0",
           "5",
           "10",
           "15",
           "20",
           "25",
           "30",
           "35",
           "40"
          ],
          "tickvals": [
           0,
           5,
           10,
           15,
           20,
           25,
           30,
           35,
           40
          ],
          "tickwidth": 1,
          "title": {
           "font": {
            "family": "Econ Sans Cnd",
            "size": 18
           },
           "text": "<b>Distribución de<br>estudiantes en %</b>"
          },
          "x": 0.79,
          "y": 1.02
         },
         "colorscale": [
          [
           0,
           "#440154"
          ],
          [
           0.1111111111111111,
           "#482878"
          ],
          [
           0.2222222222222222,
           "#3e4989"
          ],
          [
           0.3333333333333333,
           "#31688e"
          ],
          [
           0.4444444444444444,
           "#26828e"
          ],
          [
           0.5555555555555556,
           "#1f9e89"
          ],
          [
           0.6666666666666666,
           "#35b779"
          ],
          [
           0.7777777777777778,
           "#6ece58"
          ],
          [
           0.8888888888888888,
           "#b5de2b"
          ],
          [
           1,
           "#fde725"
          ]
         ]
        },
        "height": 1000,
        "legend": {
         "tracegroupgap": 0
        },
        "margin": {
         "b": 150,
         "t": 200
        },
        "shapes": [
         {
          "line": {
           "color": "red",
           "width": 1
          },
          "type": "line",
          "x0": 0,
          "x1": 1,
          "xref": "paper",
          "y0": 1.17,
          "y1": 1.17,
          "yref": "paper"
         },
         {
          "fillcolor": "red",
          "line": {
           "color": "red",
           "width": 0
          },
          "type": "rect",
          "x0": 0,
          "x1": 0.05,
          "xref": "paper",
          "y0": 1.145,
          "y1": 1.17,
          "yref": "paper"
         }
        ],
        "template": {
         "data": {
          "bar": [
           {
            "error_x": {
             "color": "#2a3f5f"
            },
            "error_y": {
             "color": "#2a3f5f"
            },
            "marker": {
             "line": {
              "color": "#E5ECF6",
              "width": 0.5
             },
             "pattern": {
              "fillmode": "overlay",
              "size": 10,
              "solidity": 0.2
             }
            },
            "type": "bar"
           }
          ],
          "barpolar": [
           {
            "marker": {
             "line": {
              "color": "#E5ECF6",
              "width": 0.5
             },
             "pattern": {
              "fillmode": "overlay",
              "size": 10,
              "solidity": 0.2
             }
            },
            "type": "barpolar"
           }
          ],
          "carpet": [
           {
            "aaxis": {
             "endlinecolor": "#2a3f5f",
             "gridcolor": "white",
             "linecolor": "white",
             "minorgridcolor": "white",
             "startlinecolor": "#2a3f5f"
            },
            "baxis": {
             "endlinecolor": "#2a3f5f",
             "gridcolor": "white",
             "linecolor": "white",
             "minorgridcolor": "white",
             "startlinecolor": "#2a3f5f"
            },
            "type": "carpet"
           }
          ],
          "choropleth": [
           {
            "colorbar": {
             "outlinewidth": 0,
             "ticks": ""
            },
            "type": "choropleth"
           }
          ],
          "contour": [
           {
            "colorbar": {
             "outlinewidth": 0,
             "ticks": ""
            },
            "colorscale": [
             [
              0,
              "#0d0887"
             ],
             [
              0.1111111111111111,
              "#46039f"
             ],
             [
              0.2222222222222222,
              "#7201a8"
             ],
             [
              0.3333333333333333,
              "#9c179e"
             ],
             [
              0.4444444444444444,
              "#bd3786"
             ],
             [
              0.5555555555555556,
              "#d8576b"
             ],
             [
              0.6666666666666666,
              "#ed7953"
             ],
             [
              0.7777777777777778,
              "#fb9f3a"
             ],
             [
              0.8888888888888888,
              "#fdca26"
             ],
             [
              1,
              "#f0f921"
             ]
            ],
            "type": "contour"
           }
          ],
          "contourcarpet": [
           {
            "colorbar": {
             "outlinewidth": 0,
             "ticks": ""
            },
            "type": "contourcarpet"
           }
          ],
          "heatmap": [
           {
            "colorbar": {
             "outlinewidth": 0,
             "ticks": ""
            },
            "colorscale": [
             [
              0,
              "#0d0887"
             ],
             [
              0.1111111111111111,
              "#46039f"
             ],
             [
              0.2222222222222222,
              "#7201a8"
             ],
             [
              0.3333333333333333,
              "#9c179e"
             ],
             [
              0.4444444444444444,
              "#bd3786"
             ],
             [
              0.5555555555555556,
              "#d8576b"
             ],
             [
              0.6666666666666666,
              "#ed7953"
             ],
             [
              0.7777777777777778,
              "#fb9f3a"
             ],
             [
              0.8888888888888888,
              "#fdca26"
             ],
             [
              1,
              "#f0f921"
             ]
            ],
            "type": "heatmap"
           }
          ],
          "heatmapgl": [
           {
            "colorbar": {
             "outlinewidth": 0,
             "ticks": ""
            },
            "colorscale": [
             [
              0,
              "#0d0887"
             ],
             [
              0.1111111111111111,
              "#46039f"
             ],
             [
              0.2222222222222222,
              "#7201a8"
             ],
             [
              0.3333333333333333,
              "#9c179e"
             ],
             [
              0.4444444444444444,
              "#bd3786"
             ],
             [
              0.5555555555555556,
              "#d8576b"
             ],
             [
              0.6666666666666666,
              "#ed7953"
             ],
             [
              0.7777777777777778,
              "#fb9f3a"
             ],
             [
              0.8888888888888888,
              "#fdca26"
             ],
             [
              1,
              "#f0f921"
             ]
            ],
            "type": "heatmapgl"
           }
          ],
          "histogram": [
           {
            "marker": {
             "pattern": {
              "fillmode": "overlay",
              "size": 10,
              "solidity": 0.2
             }
            },
            "type": "histogram"
           }
          ],
          "histogram2d": [
           {
            "colorbar": {
             "outlinewidth": 0,
             "ticks": ""
            },
            "colorscale": [
             [
              0,
              "#0d0887"
             ],
             [
              0.1111111111111111,
              "#46039f"
             ],
             [
              0.2222222222222222,
              "#7201a8"
             ],
             [
              0.3333333333333333,
              "#9c179e"
             ],
             [
              0.4444444444444444,
              "#bd3786"
             ],
             [
              0.5555555555555556,
              "#d8576b"
             ],
             [
              0.6666666666666666,
              "#ed7953"
             ],
             [
              0.7777777777777778,
              "#fb9f3a"
             ],
             [
              0.8888888888888888,
              "#fdca26"
             ],
             [
              1,
              "#f0f921"
             ]
            ],
            "type": "histogram2d"
           }
          ],
          "histogram2dcontour": [
           {
            "colorbar": {
             "outlinewidth": 0,
             "ticks": ""
            },
            "colorscale": [
             [
              0,
              "#0d0887"
             ],
             [
              0.1111111111111111,
              "#46039f"
             ],
             [
              0.2222222222222222,
              "#7201a8"
             ],
             [
              0.3333333333333333,
              "#9c179e"
             ],
             [
              0.4444444444444444,
              "#bd3786"
             ],
             [
              0.5555555555555556,
              "#d8576b"
             ],
             [
              0.6666666666666666,
              "#ed7953"
             ],
             [
              0.7777777777777778,
              "#fb9f3a"
             ],
             [
              0.8888888888888888,
              "#fdca26"
             ],
             [
              1,
              "#f0f921"
             ]
            ],
            "type": "histogram2dcontour"
           }
          ],
          "mesh3d": [
           {
            "colorbar": {
             "outlinewidth": 0,
             "ticks": ""
            },
            "type": "mesh3d"
           }
          ],
          "parcoords": [
           {
            "line": {
             "colorbar": {
              "outlinewidth": 0,
              "ticks": ""
             }
            },
            "type": "parcoords"
           }
          ],
          "pie": [
           {
            "automargin": true,
            "type": "pie"
           }
          ],
          "scatter": [
           {
            "fillpattern": {
             "fillmode": "overlay",
             "size": 10,
             "solidity": 0.2
            },
            "type": "scatter"
           }
          ],
          "scatter3d": [
           {
            "line": {
             "colorbar": {
              "outlinewidth": 0,
              "ticks": ""
             }
            },
            "marker": {
             "colorbar": {
              "outlinewidth": 0,
              "ticks": ""
             }
            },
            "type": "scatter3d"
           }
          ],
          "scattercarpet": [
           {
            "marker": {
             "colorbar": {
              "outlinewidth": 0,
              "ticks": ""
             }
            },
            "type": "scattercarpet"
           }
          ],
          "scattergeo": [
           {
            "marker": {
             "colorbar": {
              "outlinewidth": 0,
              "ticks": ""
             }
            },
            "type": "scattergeo"
           }
          ],
          "scattergl": [
           {
            "marker": {
             "colorbar": {
              "outlinewidth": 0,
              "ticks": ""
             }
            },
            "type": "scattergl"
           }
          ],
          "scattermapbox": [
           {
            "marker": {
             "colorbar": {
              "outlinewidth": 0,
              "ticks": ""
             }
            },
            "type": "scattermapbox"
           }
          ],
          "scatterpolar": [
           {
            "marker": {
             "colorbar": {
              "outlinewidth": 0,
              "ticks": ""
             }
            },
            "type": "scatterpolar"
           }
          ],
          "scatterpolargl": [
           {
            "marker": {
             "colorbar": {
              "outlinewidth": 0,
              "ticks": ""
             }
            },
            "type": "scatterpolargl"
           }
          ],
          "scatterternary": [
           {
            "marker": {
             "colorbar": {
              "outlinewidth": 0,
              "ticks": ""
             }
            },
            "type": "scatterternary"
           }
          ],
          "surface": [
           {
            "colorbar": {
             "outlinewidth": 0,
             "ticks": ""
            },
            "colorscale": [
             [
              0,
              "#0d0887"
             ],
             [
              0.1111111111111111,
              "#46039f"
             ],
             [
              0.2222222222222222,
              "#7201a8"
             ],
             [
              0.3333333333333333,
              "#9c179e"
             ],
             [
              0.4444444444444444,
              "#bd3786"
             ],
             [
              0.5555555555555556,
              "#d8576b"
             ],
             [
              0.6666666666666666,
              "#ed7953"
             ],
             [
              0.7777777777777778,
              "#fb9f3a"
             ],
             [
              0.8888888888888888,
              "#fdca26"
             ],
             [
              1,
              "#f0f921"
             ]
            ],
            "type": "surface"
           }
          ],
          "table": [
           {
            "cells": {
             "fill": {
              "color": "#EBF0F8"
             },
             "line": {
              "color": "white"
             }
            },
            "header": {
             "fill": {
              "color": "#C8D4E3"
             },
             "line": {
              "color": "white"
             }
            },
            "type": "table"
           }
          ]
         },
         "layout": {
          "annotationdefaults": {
           "arrowcolor": "#2a3f5f",
           "arrowhead": 0,
           "arrowwidth": 1
          },
          "autotypenumbers": "strict",
          "coloraxis": {
           "colorbar": {
            "outlinewidth": 0,
            "ticks": ""
           }
          },
          "colorscale": {
           "diverging": [
            [
             0,
             "#8e0152"
            ],
            [
             0.1,
             "#c51b7d"
            ],
            [
             0.2,
             "#de77ae"
            ],
            [
             0.3,
             "#f1b6da"
            ],
            [
             0.4,
             "#fde0ef"
            ],
            [
             0.5,
             "#f7f7f7"
            ],
            [
             0.6,
             "#e6f5d0"
            ],
            [
             0.7,
             "#b8e186"
            ],
            [
             0.8,
             "#7fbc41"
            ],
            [
             0.9,
             "#4d9221"
            ],
            [
             1,
             "#276419"
            ]
           ],
           "sequential": [
            [
             0,
             "#0d0887"
            ],
            [
             0.1111111111111111,
             "#46039f"
            ],
            [
             0.2222222222222222,
             "#7201a8"
            ],
            [
             0.3333333333333333,
             "#9c179e"
            ],
            [
             0.4444444444444444,
             "#bd3786"
            ],
            [
             0.5555555555555556,
             "#d8576b"
            ],
            [
             0.6666666666666666,
             "#ed7953"
            ],
            [
             0.7777777777777778,
             "#fb9f3a"
            ],
            [
             0.8888888888888888,
             "#fdca26"
            ],
            [
             1,
             "#f0f921"
            ]
           ],
           "sequentialminus": [
            [
             0,
             "#0d0887"
            ],
            [
             0.1111111111111111,
             "#46039f"
            ],
            [
             0.2222222222222222,
             "#7201a8"
            ],
            [
             0.3333333333333333,
             "#9c179e"
            ],
            [
             0.4444444444444444,
             "#bd3786"
            ],
            [
             0.5555555555555556,
             "#d8576b"
            ],
            [
             0.6666666666666666,
             "#ed7953"
            ],
            [
             0.7777777777777778,
             "#fb9f3a"
            ],
            [
             0.8888888888888888,
             "#fdca26"
            ],
            [
             1,
             "#f0f921"
            ]
           ]
          },
          "colorway": [
           "#636efa",
           "#EF553B",
           "#00cc96",
           "#ab63fa",
           "#FFA15A",
           "#19d3f3",
           "#FF6692",
           "#B6E880",
           "#FF97FF",
           "#FECB52"
          ],
          "font": {
           "color": "#2a3f5f"
          },
          "geo": {
           "bgcolor": "white",
           "lakecolor": "white",
           "landcolor": "#E5ECF6",
           "showlakes": true,
           "showland": true,
           "subunitcolor": "white"
          },
          "hoverlabel": {
           "align": "left"
          },
          "hovermode": "closest",
          "mapbox": {
           "style": "light"
          },
          "paper_bgcolor": "white",
          "plot_bgcolor": "#E5ECF6",
          "polar": {
           "angularaxis": {
            "gridcolor": "white",
            "linecolor": "white",
            "ticks": ""
           },
           "bgcolor": "#E5ECF6",
           "radialaxis": {
            "gridcolor": "white",
            "linecolor": "white",
            "ticks": ""
           }
          },
          "scene": {
           "xaxis": {
            "backgroundcolor": "#E5ECF6",
            "gridcolor": "white",
            "gridwidth": 2,
            "linecolor": "white",
            "showbackground": true,
            "ticks": "",
            "zerolinecolor": "white"
           },
           "yaxis": {
            "backgroundcolor": "#E5ECF6",
            "gridcolor": "white",
            "gridwidth": 2,
            "linecolor": "white",
            "showbackground": true,
            "ticks": "",
            "zerolinecolor": "white"
           },
           "zaxis": {
            "backgroundcolor": "#E5ECF6",
            "gridcolor": "white",
            "gridwidth": 2,
            "linecolor": "white",
            "showbackground": true,
            "ticks": "",
            "zerolinecolor": "white"
           }
          },
          "shapedefaults": {
           "line": {
            "color": "#2a3f5f"
           }
          },
          "ternary": {
           "aaxis": {
            "gridcolor": "white",
            "linecolor": "white",
            "ticks": ""
           },
           "baxis": {
            "gridcolor": "white",
            "linecolor": "white",
            "ticks": ""
           },
           "bgcolor": "#E5ECF6",
           "caxis": {
            "gridcolor": "white",
            "linecolor": "white",
            "ticks": ""
           }
          },
          "title": {
           "x": 0.05
          },
          "xaxis": {
           "automargin": true,
           "gridcolor": "white",
           "linecolor": "white",
           "ticks": "",
           "title": {
            "standoff": 15
           },
           "zerolinecolor": "white",
           "zerolinewidth": 2
          },
          "yaxis": {
           "automargin": true,
           "gridcolor": "white",
           "linecolor": "white",
           "ticks": "",
           "title": {
            "standoff": 15
           },
           "zerolinecolor": "white",
           "zerolinewidth": 2
          }
         }
        }
       }
      },
      "text/html": [
       "<div>                            <div id=\"e52321e7-a4eb-4760-a3bc-408ed90b8c6a\" class=\"plotly-graph-div\" style=\"height:1000px; width:100%;\"></div>            <script type=\"text/javascript\">                require([\"plotly\"], function(Plotly) {                    window.PLOTLYENV=window.PLOTLYENV || {};                                    if (document.getElementById(\"e52321e7-a4eb-4760-a3bc-408ed90b8c6a\")) {                    Plotly.newPlot(                        \"e52321e7-a4eb-4760-a3bc-408ed90b8c6a\",                        [{\"branchvalues\":\"total\",\"customdata\":[[3794,40.66],[5151,35.98],[288,3.0900000000000003],[411,2.87],[127,1.36],[226,1.58],[89,0.9500000000000001],[144,1.01],[71,0.76],[69,0.48],[355,3.8000000000000003],[641,4.48],[541,5.800000000000001],[800,5.59],[328,3.52],[573,4.0],[162,1.74],[253,1.77],[70,0.75],[112,0.78],[92,0.99],[136,0.9500000000000001],[504,5.4],[901,6.290000000000001],[245,2.63],[392,2.74],[912,9.77],[1570,10.97],[442,4.74],[741,5.18],[576,6.17],[1000,6.98],[76,0.81],[90,0.63],[5,0.05000000000000001],[4,0.03],[9,0.10000000000000002],[16,0.11],[9,0.10000000000000002],[9,0.06],[11,0.12],[14,0.10000000000000002],[7,0.08],[3,0.02],[120,1.29],[44,0.31],[27,0.29],[16,0.11],[18,0.19],[16,0.11],[18,0.19],[7,0.05000000000000001],[17,0.18],[4,0.03],[17,0.18],[6,0.04],[25,0.27],[14,0.10000000000000002],[53,0.57],[15,0.10000000000000002],[33,0.35],[33,0.23],[38,0.41],[24,0.17],[26,0.28],[164,1.15],[2,0.02],[11,0.08],[10,0.11],[44,0.31],[5,0.05000000000000001],[29,0.20000000000000004],[6,0.06],[12,0.08],[4,0.04],[27,0.19],[10,0.07],[3,0.03],[17,0.12],[1,0.01],[34,0.24],[6,0.06],[41,0.29],[10,0.11],[57,0.4000000000000001],[8,0.09],[3,0.02],[3,0.03],[5,0.03],[58,0.62],[135,0.94],[14,0.15],[28,0.20000000000000004],[5,0.05000000000000001],[39,0.27],[10,0.11],[18,0.13],[4,0.04],[24,0.17],[3,0.03],[5,0.03],[6,0.06],[10,0.07],[4,0.04],[8,0.06],[31,0.33],[61,0.42999999999999994],[16,0.17],[48,0.34],[17,0.18],[52,0.36],[\"(?)\",19.276025205041005],[\"(?)\",16.249470158952313],[\"(?)\",17.762369381530924]],\"domain\":{\"x\":[0.0,1.0],\"y\":[0.0,1.0]},\"hovertemplate\":\"labels=%{label}\\u003cbr\\u003epercentage_sum=%{value}\\u003cbr\\u003eparent=%{parent}\\u003cbr\\u003eid=%{id}\\u003cbr\\u003ecount=%{customdata[0]}\\u003cbr\\u003eDistribuci\\u00f3n de estudiantes en %=%{color}\\u003cextra\\u003e\\u003c\\u002fextra\\u003e\",\"ids\":[\"Distribuci\\u00f3n de estudiantes por sexo\\u002fHombre\\u002fHumanista cient\\u00edfico Diurno\\u003cbr\\u003eRegi\\u00f3n Metropolitana de Santiago\",\"Distribuci\\u00f3n de estudiantes por sexo\\u002fMujer\\u002fHumanista cient\\u00edfico Diurno\\u003cbr\\u003eRegi\\u00f3n Metropolitana de Santiago\",\"Distribuci\\u00f3n de estudiantes por sexo\\u002fHombre\\u002fHumanista cient\\u00edfico Diurno\\u003cbr\\u003eRegi\\u00f3n de Antofagasta\",\"Distribuci\\u00f3n de estudiantes por sexo\\u002fMujer\\u002fHumanista cient\\u00edfico Diurno\\u003cbr\\u003eRegi\\u00f3n de Antofagasta\",\"Distribuci\\u00f3n de estudiantes por sexo\\u002fHombre\\u002fHumanista cient\\u00edfico Diurno\\u003cbr\\u003eRegi\\u00f3n de Arica y Parinacota\",\"Distribuci\\u00f3n de estudiantes por sexo\\u002fMujer\\u002fHumanista cient\\u00edfico Diurno\\u003cbr\\u003eRegi\\u00f3n de Arica y Parinacota\",\"Distribuci\\u00f3n de estudiantes por sexo\\u002fHombre\\u002fHumanista cient\\u00edfico Diurno\\u003cbr\\u003eRegi\\u00f3n de Atacama\",\"Distribuci\\u00f3n de estudiantes por sexo\\u002fMujer\\u002fHumanista cient\\u00edfico Diurno\\u003cbr\\u003eRegi\\u00f3n de Atacama\",\"Distribuci\\u00f3n de estudiantes por sexo\\u002fHombre\\u002fHumanista cient\\u00edfico Diurno\\u003cbr\\u003eRegi\\u00f3n de Ays\\u00e9n del General Carlos Ib\\u00e1\\u00f1ez del Campo\",\"Distribuci\\u00f3n de estudiantes por sexo\\u002fMujer\\u002fHumanista cient\\u00edfico Diurno\\u003cbr\\u003eRegi\\u00f3n de Ays\\u00e9n del General Carlos Ib\\u00e1\\u00f1ez del Campo\",\"Distribuci\\u00f3n de estudiantes por sexo\\u002fHombre\\u002fHumanista cient\\u00edfico Diurno\\u003cbr\\u003eRegi\\u00f3n de Coquimbo\",\"Distribuci\\u00f3n de estudiantes por sexo\\u002fMujer\\u002fHumanista cient\\u00edfico Diurno\\u003cbr\\u003eRegi\\u00f3n de Coquimbo\",\"Distribuci\\u00f3n de estudiantes por sexo\\u002fHombre\\u002fHumanista cient\\u00edfico Diurno\\u003cbr\\u003eRegi\\u00f3n de La Araucan\\u00eda\",\"Distribuci\\u00f3n de estudiantes por sexo\\u002fMujer\\u002fHumanista cient\\u00edfico Diurno\\u003cbr\\u003eRegi\\u00f3n de La Araucan\\u00eda\",\"Distribuci\\u00f3n de estudiantes por sexo\\u002fHombre\\u002fHumanista cient\\u00edfico Diurno\\u003cbr\\u003eRegi\\u00f3n de Los Lagos\",\"Distribuci\\u00f3n de estudiantes por sexo\\u002fMujer\\u002fHumanista cient\\u00edfico Diurno\\u003cbr\\u003eRegi\\u00f3n de Los Lagos\",\"Distribuci\\u00f3n de estudiantes por sexo\\u002fHombre\\u002fHumanista cient\\u00edfico Diurno\\u003cbr\\u003eRegi\\u00f3n de Los R\\u00edos\",\"Distribuci\\u00f3n de estudiantes por sexo\\u002fMujer\\u002fHumanista cient\\u00edfico Diurno\\u003cbr\\u003eRegi\\u00f3n de Los R\\u00edos\",\"Distribuci\\u00f3n de estudiantes por sexo\\u002fHombre\\u002fHumanista cient\\u00edfico Diurno\\u003cbr\\u003eRegi\\u00f3n de Magallanes y de la Ant\\u00e1rtica Chilena\",\"Distribuci\\u00f3n de estudiantes por sexo\\u002fMujer\\u002fHumanista cient\\u00edfico Diurno\\u003cbr\\u003eRegi\\u00f3n de Magallanes y de la Ant\\u00e1rtica Chilena\",\"Distribuci\\u00f3n de estudiantes por sexo\\u002fHombre\\u002fHumanista cient\\u00edfico Diurno\\u003cbr\\u003eRegi\\u00f3n de Tarapac\\u00e1\",\"Distribuci\\u00f3n de estudiantes por sexo\\u002fMujer\\u002fHumanista cient\\u00edfico Diurno\\u003cbr\\u003eRegi\\u00f3n de Tarapac\\u00e1\",\"Distribuci\\u00f3n de estudiantes por sexo\\u002fHombre\\u002fHumanista cient\\u00edfico Diurno\\u003cbr\\u003eRegi\\u00f3n de Valpara\\u00edso\",\"Distribuci\\u00f3n de estudiantes por sexo\\u002fMujer\\u002fHumanista cient\\u00edfico Diurno\\u003cbr\\u003eRegi\\u00f3n de Valpara\\u00edso\",\"Distribuci\\u00f3n de estudiantes por sexo\\u002fHombre\\u002fHumanista cient\\u00edfico Diurno\\u003cbr\\u003eRegi\\u00f3n de \\u00d1uble\",\"Distribuci\\u00f3n de estudiantes por sexo\\u002fMujer\\u002fHumanista cient\\u00edfico Diurno\\u003cbr\\u003eRegi\\u00f3n de \\u00d1uble\",\"Distribuci\\u00f3n de estudiantes por sexo\\u002fHombre\\u002fHumanista cient\\u00edfico Diurno\\u003cbr\\u003eRegi\\u00f3n del Biob\\u00edo\",\"Distribuci\\u00f3n de estudiantes por sexo\\u002fMujer\\u002fHumanista cient\\u00edfico Diurno\\u003cbr\\u003eRegi\\u00f3n del Biob\\u00edo\",\"Distribuci\\u00f3n de estudiantes por sexo\\u002fHombre\\u002fHumanista cient\\u00edfico Diurno\\u003cbr\\u003eRegi\\u00f3n del Libertador General Bernardo O'Higgins\",\"Distribuci\\u00f3n de estudiantes por sexo\\u002fMujer\\u002fHumanista cient\\u00edfico Diurno\\u003cbr\\u003eRegi\\u00f3n del Libertador General Bernardo O'Higgins\",\"Distribuci\\u00f3n de estudiantes por sexo\\u002fHombre\\u002fHumanista cient\\u00edfico Diurno\\u003cbr\\u003eRegi\\u00f3n del Maule\",\"Distribuci\\u00f3n de estudiantes por sexo\\u002fMujer\\u002fHumanista cient\\u00edfico Diurno\\u003cbr\\u003eRegi\\u00f3n del Maule\",\"Distribuci\\u00f3n de estudiantes por sexo\\u002fHombre\\u002fHumanista cient\\u00edfico Nocturno\\u003cbr\\u003eRegi\\u00f3n Metropolitana de Santiago\",\"Distribuci\\u00f3n de estudiantes por sexo\\u002fMujer\\u002fHumanista cient\\u00edfico Nocturno\\u003cbr\\u003eRegi\\u00f3n Metropolitana de Santiago\",\"Distribuci\\u00f3n de estudiantes por sexo\\u002fHombre\\u002fHumanista cient\\u00edfico Nocturno\\u003cbr\\u003eRegi\\u00f3n de Coquimbo\",\"Distribuci\\u00f3n de estudiantes por sexo\\u002fMujer\\u002fHumanista cient\\u00edfico Nocturno\\u003cbr\\u003eRegi\\u00f3n de Coquimbo\",\"Distribuci\\u00f3n de estudiantes por sexo\\u002fHombre\\u002fHumanista cient\\u00edfico Nocturno\\u003cbr\\u003eRegi\\u00f3n de La Araucan\\u00eda\",\"Distribuci\\u00f3n de estudiantes por sexo\\u002fMujer\\u002fHumanista cient\\u00edfico Nocturno\\u003cbr\\u003eRegi\\u00f3n de La Araucan\\u00eda\",\"Distribuci\\u00f3n de estudiantes por sexo\\u002fHombre\\u002fHumanista cient\\u00edfico Nocturno\\u003cbr\\u003eRegi\\u00f3n de Los Lagos\",\"Distribuci\\u00f3n de estudiantes por sexo\\u002fMujer\\u002fHumanista cient\\u00edfico Nocturno\\u003cbr\\u003eRegi\\u00f3n de Los Lagos\",\"Distribuci\\u00f3n de estudiantes por sexo\\u002fHombre\\u002fHumanista cient\\u00edfico Nocturno\\u003cbr\\u003eRegi\\u00f3n del Biob\\u00edo\",\"Distribuci\\u00f3n de estudiantes por sexo\\u002fMujer\\u002fHumanista cient\\u00edfico Nocturno\\u003cbr\\u003eRegi\\u00f3n del Biob\\u00edo\",\"Distribuci\\u00f3n de estudiantes por sexo\\u002fHombre\\u002fHumanista cient\\u00edfico Nocturno\\u003cbr\\u003eRegi\\u00f3n del Libertador General Bernardo O'Higgins\",\"Distribuci\\u00f3n de estudiantes por sexo\\u002fMujer\\u002fHumanista cient\\u00edfico Nocturno\\u003cbr\\u003eRegi\\u00f3n del Libertador General Bernardo O'Higgins\",\"Distribuci\\u00f3n de estudiantes por sexo\\u002fHombre\\u002fT\\u00e9cnico profesional Industrial\\u003cbr\\u003eRegi\\u00f3n Metropolitana de Santiago\",\"Distribuci\\u00f3n de estudiantes por sexo\\u002fMujer\\u002fT\\u00e9cnico profesional Industrial\\u003cbr\\u003eRegi\\u00f3n Metropolitana de Santiago\",\"Distribuci\\u00f3n de estudiantes por sexo\\u002fHombre\\u002fT\\u00e9cnico profesional Industrial\\u003cbr\\u003eRegi\\u00f3n de Antofagasta\",\"Distribuci\\u00f3n de estudiantes por sexo\\u002fMujer\\u002fT\\u00e9cnico profesional Industrial\\u003cbr\\u003eRegi\\u00f3n de Antofagasta\",\"Distribuci\\u00f3n de estudiantes por sexo\\u002fHombre\\u002fT\\u00e9cnico profesional Industrial\\u003cbr\\u003eRegi\\u00f3n de Atacama\",\"Distribuci\\u00f3n de estudiantes por sexo\\u002fMujer\\u002fT\\u00e9cnico profesional Industrial\\u003cbr\\u003eRegi\\u00f3n de Atacama\",\"Distribuci\\u00f3n de estudiantes por sexo\\u002fHombre\\u002fT\\u00e9cnico profesional Industrial\\u003cbr\\u003eRegi\\u00f3n de Coquimbo\",\"Distribuci\\u00f3n de estudiantes por sexo\\u002fMujer\\u002fT\\u00e9cnico profesional Industrial\\u003cbr\\u003eRegi\\u00f3n de Coquimbo\",\"Distribuci\\u00f3n de estudiantes por sexo\\u002fHombre\\u002fT\\u00e9cnico profesional Industrial\\u003cbr\\u003eRegi\\u00f3n de La Araucan\\u00eda\",\"Distribuci\\u00f3n de estudiantes por sexo\\u002fMujer\\u002fT\\u00e9cnico profesional Industrial\\u003cbr\\u003eRegi\\u00f3n de La Araucan\\u00eda\",\"Distribuci\\u00f3n de estudiantes por sexo\\u002fHombre\\u002fT\\u00e9cnico profesional Industrial\\u003cbr\\u003eRegi\\u00f3n de Los Lagos\",\"Distribuci\\u00f3n de estudiantes por sexo\\u002fMujer\\u002fT\\u00e9cnico profesional Industrial\\u003cbr\\u003eRegi\\u00f3n de Los Lagos\",\"Distribuci\\u00f3n de estudiantes por sexo\\u002fHombre\\u002fT\\u00e9cnico profesional Industrial\\u003cbr\\u003eRegi\\u00f3n de Valpara\\u00edso\",\"Distribuci\\u00f3n de estudiantes por sexo\\u002fMujer\\u002fT\\u00e9cnico profesional Industrial\\u003cbr\\u003eRegi\\u00f3n de Valpara\\u00edso\",\"Distribuci\\u00f3n de estudiantes por sexo\\u002fHombre\\u002fT\\u00e9cnico profesional Industrial\\u003cbr\\u003eRegi\\u00f3n del Biob\\u00edo\",\"Distribuci\\u00f3n de estudiantes por sexo\\u002fMujer\\u002fT\\u00e9cnico profesional Industrial\\u003cbr\\u003eRegi\\u00f3n del Biob\\u00edo\",\"Distribuci\\u00f3n de estudiantes por sexo\\u002fHombre\\u002fT\\u00e9cnico profesional Industrial\\u003cbr\\u003eRegi\\u00f3n del Libertador General Bernardo O'Higgins\",\"Distribuci\\u00f3n de estudiantes por sexo\\u002fMujer\\u002fT\\u00e9cnico profesional Industrial\\u003cbr\\u003eRegi\\u00f3n del Libertador General Bernardo O'Higgins\",\"Distribuci\\u00f3n de estudiantes por sexo\\u002fHombre\\u002fT\\u00e9cnico profesional Industrial\\u003cbr\\u003eRegi\\u00f3n del Maule\",\"Distribuci\\u00f3n de estudiantes por sexo\\u002fMujer\\u002fT\\u00e9cnico profesional Industrial\\u003cbr\\u003eRegi\\u00f3n del Maule\",\"Distribuci\\u00f3n de estudiantes por sexo\\u002fHombre\\u002fT\\u00e9cnico profesional Servicios y t\\u00e9cnica\\u003cbr\\u003eRegi\\u00f3n Metropolitana de Santiago\",\"Distribuci\\u00f3n de estudiantes por sexo\\u002fMujer\\u002fT\\u00e9cnico profesional Servicios y t\\u00e9cnica\\u003cbr\\u003eRegi\\u00f3n Metropolitana de Santiago\",\"Distribuci\\u00f3n de estudiantes por sexo\\u002fHombre\\u002fT\\u00e9cnico profesional Servicios y t\\u00e9cnica\\u003cbr\\u003eRegi\\u00f3n de Antofagasta\",\"Distribuci\\u00f3n de estudiantes por sexo\\u002fMujer\\u002fT\\u00e9cnico profesional Servicios y t\\u00e9cnica\\u003cbr\\u003eRegi\\u00f3n de Antofagasta\",\"Distribuci\\u00f3n de estudiantes por sexo\\u002fHombre\\u002fT\\u00e9cnico profesional Servicios y t\\u00e9cnica\\u003cbr\\u003eRegi\\u00f3n de La Araucan\\u00eda\",\"Distribuci\\u00f3n de estudiantes por sexo\\u002fMujer\\u002fT\\u00e9cnico profesional Servicios y t\\u00e9cnica\\u003cbr\\u003eRegi\\u00f3n de La Araucan\\u00eda\",\"Distribuci\\u00f3n de estudiantes por sexo\\u002fHombre\\u002fT\\u00e9cnico profesional Servicios y t\\u00e9cnica\\u003cbr\\u003eRegi\\u00f3n de Los Lagos\",\"Distribuci\\u00f3n de estudiantes por sexo\\u002fMujer\\u002fT\\u00e9cnico profesional Servicios y t\\u00e9cnica\\u003cbr\\u003eRegi\\u00f3n de Los Lagos\",\"Distribuci\\u00f3n de estudiantes por sexo\\u002fHombre\\u002fT\\u00e9cnico profesional Servicios y t\\u00e9cnica\\u003cbr\\u003eRegi\\u00f3n de Los R\\u00edos\",\"Distribuci\\u00f3n de estudiantes por sexo\\u002fMujer\\u002fT\\u00e9cnico profesional Servicios y t\\u00e9cnica\\u003cbr\\u003eRegi\\u00f3n de Los R\\u00edos\",\"Distribuci\\u00f3n de estudiantes por sexo\\u002fHombre\\u002fT\\u00e9cnico profesional Servicios y t\\u00e9cnica\\u003cbr\\u003eRegi\\u00f3n de Tarapac\\u00e1\",\"Distribuci\\u00f3n de estudiantes por sexo\\u002fMujer\\u002fT\\u00e9cnico profesional Servicios y t\\u00e9cnica\\u003cbr\\u003eRegi\\u00f3n de Tarapac\\u00e1\",\"Distribuci\\u00f3n de estudiantes por sexo\\u002fMujer\\u002fT\\u00e9cnico profesional Servicios y t\\u00e9cnica\\u003cbr\\u003eRegi\\u00f3n de Valpara\\u00edso\",\"Distribuci\\u00f3n de estudiantes por sexo\\u002fHombre\\u002fT\\u00e9cnico profesional Servicios y t\\u00e9cnica\\u003cbr\\u003eRegi\\u00f3n de \\u00d1uble\",\"Distribuci\\u00f3n de estudiantes por sexo\\u002fMujer\\u002fT\\u00e9cnico profesional Servicios y t\\u00e9cnica\\u003cbr\\u003eRegi\\u00f3n de \\u00d1uble\",\"Distribuci\\u00f3n de estudiantes por sexo\\u002fHombre\\u002fT\\u00e9cnico profesional Servicios y t\\u00e9cnica\\u003cbr\\u003eRegi\\u00f3n del Biob\\u00edo\",\"Distribuci\\u00f3n de estudiantes por sexo\\u002fMujer\\u002fT\\u00e9cnico profesional Servicios y t\\u00e9cnica\\u003cbr\\u003eRegi\\u00f3n del Biob\\u00edo\",\"Distribuci\\u00f3n de estudiantes por sexo\\u002fHombre\\u002fT\\u00e9cnico profesional Servicios y t\\u00e9cnica\\u003cbr\\u003eRegi\\u00f3n del Libertador General Bernardo O'Higgins\",\"Distribuci\\u00f3n de estudiantes por sexo\\u002fMujer\\u002fT\\u00e9cnico profesional Servicios y t\\u00e9cnica\\u003cbr\\u003eRegi\\u00f3n del Libertador General Bernardo O'Higgins\",\"Distribuci\\u00f3n de estudiantes por sexo\\u002fHombre\\u002fT\\u00e9cnico profesional Servicios y t\\u00e9cnica\\u003cbr\\u003eRegi\\u00f3n del Maule\",\"Distribuci\\u00f3n de estudiantes por sexo\\u002fMujer\\u002fT\\u00e9cnico profesional Servicios y t\\u00e9cnica\\u003cbr\\u003eRegi\\u00f3n del Maule\",\"Distribuci\\u00f3n de estudiantes por sexo\\u002fHombre\\u002fT\\u00e9cnico profesional agr\\u00edcola\\u003cbr\\u003eRegi\\u00f3n de Los Lagos\",\"Distribuci\\u00f3n de estudiantes por sexo\\u002fMujer\\u002fT\\u00e9cnico profesional agr\\u00edcola\\u003cbr\\u003eRegi\\u00f3n de Los Lagos\",\"Distribuci\\u00f3n de estudiantes por sexo\\u002fHombre\\u002fT\\u00e9cnico profesional agr\\u00edcola\\u003cbr\\u003eRegi\\u00f3n del Maule\",\"Distribuci\\u00f3n de estudiantes por sexo\\u002fMujer\\u002fT\\u00e9cnico profesional agr\\u00edcola\\u003cbr\\u003eRegi\\u00f3n del Maule\",\"Distribuci\\u00f3n de estudiantes por sexo\\u002fHombre\\u002fT\\u00e9cnico profesional comercial\\u003cbr\\u003eRegi\\u00f3n Metropolitana de Santiago\",\"Distribuci\\u00f3n de estudiantes por sexo\\u002fMujer\\u002fT\\u00e9cnico profesional comercial\\u003cbr\\u003eRegi\\u00f3n Metropolitana de Santiago\",\"Distribuci\\u00f3n de estudiantes por sexo\\u002fHombre\\u002fT\\u00e9cnico profesional comercial\\u003cbr\\u003eRegi\\u00f3n de Antofagasta\",\"Distribuci\\u00f3n de estudiantes por sexo\\u002fMujer\\u002fT\\u00e9cnico profesional comercial\\u003cbr\\u003eRegi\\u00f3n de Antofagasta\",\"Distribuci\\u00f3n de estudiantes por sexo\\u002fHombre\\u002fT\\u00e9cnico profesional comercial\\u003cbr\\u003eRegi\\u00f3n de Coquimbo\",\"Distribuci\\u00f3n de estudiantes por sexo\\u002fMujer\\u002fT\\u00e9cnico profesional comercial\\u003cbr\\u003eRegi\\u00f3n de Coquimbo\",\"Distribuci\\u00f3n de estudiantes por sexo\\u002fHombre\\u002fT\\u00e9cnico profesional comercial\\u003cbr\\u003eRegi\\u00f3n de La Araucan\\u00eda\",\"Distribuci\\u00f3n de estudiantes por sexo\\u002fMujer\\u002fT\\u00e9cnico profesional comercial\\u003cbr\\u003eRegi\\u00f3n de La Araucan\\u00eda\",\"Distribuci\\u00f3n de estudiantes por sexo\\u002fHombre\\u002fT\\u00e9cnico profesional comercial\\u003cbr\\u003eRegi\\u00f3n de Los Lagos\",\"Distribuci\\u00f3n de estudiantes por sexo\\u002fMujer\\u002fT\\u00e9cnico profesional comercial\\u003cbr\\u003eRegi\\u00f3n de Los Lagos\",\"Distribuci\\u00f3n de estudiantes por sexo\\u002fHombre\\u002fT\\u00e9cnico profesional comercial\\u003cbr\\u003eRegi\\u00f3n de Los R\\u00edos\",\"Distribuci\\u00f3n de estudiantes por sexo\\u002fMujer\\u002fT\\u00e9cnico profesional comercial\\u003cbr\\u003eRegi\\u00f3n de Los R\\u00edos\",\"Distribuci\\u00f3n de estudiantes por sexo\\u002fHombre\\u002fT\\u00e9cnico profesional comercial\\u003cbr\\u003eRegi\\u00f3n de Valpara\\u00edso\",\"Distribuci\\u00f3n de estudiantes por sexo\\u002fMujer\\u002fT\\u00e9cnico profesional comercial\\u003cbr\\u003eRegi\\u00f3n de Valpara\\u00edso\",\"Distribuci\\u00f3n de estudiantes por sexo\\u002fHombre\\u002fT\\u00e9cnico profesional comercial\\u003cbr\\u003eRegi\\u00f3n de \\u00d1uble\",\"Distribuci\\u00f3n de estudiantes por sexo\\u002fMujer\\u002fT\\u00e9cnico profesional comercial\\u003cbr\\u003eRegi\\u00f3n de \\u00d1uble\",\"Distribuci\\u00f3n de estudiantes por sexo\\u002fHombre\\u002fT\\u00e9cnico profesional comercial\\u003cbr\\u003eRegi\\u00f3n del Biob\\u00edo\",\"Distribuci\\u00f3n de estudiantes por sexo\\u002fMujer\\u002fT\\u00e9cnico profesional comercial\\u003cbr\\u003eRegi\\u00f3n del Biob\\u00edo\",\"Distribuci\\u00f3n de estudiantes por sexo\\u002fHombre\\u002fT\\u00e9cnico profesional comercial\\u003cbr\\u003eRegi\\u00f3n del Libertador General Bernardo O'Higgins\",\"Distribuci\\u00f3n de estudiantes por sexo\\u002fMujer\\u002fT\\u00e9cnico profesional comercial\\u003cbr\\u003eRegi\\u00f3n del Libertador General Bernardo O'Higgins\",\"Distribuci\\u00f3n de estudiantes por sexo\\u002fHombre\\u002fT\\u00e9cnico profesional comercial\\u003cbr\\u003eRegi\\u00f3n del Maule\",\"Distribuci\\u00f3n de estudiantes por sexo\\u002fMujer\\u002fT\\u00e9cnico profesional comercial\\u003cbr\\u003eRegi\\u00f3n del Maule\",\"Distribuci\\u00f3n de estudiantes por sexo\\u002fHombre\",\"Distribuci\\u00f3n de estudiantes por sexo\\u002fMujer\",\"Distribuci\\u00f3n de estudiantes por sexo\"],\"labels\":[\"Humanista cient\\u00edfico Diurno\\u003cbr\\u003eRegi\\u00f3n Metropolitana de Santiago\",\"Humanista cient\\u00edfico Diurno\\u003cbr\\u003eRegi\\u00f3n Metropolitana de Santiago\",\"Humanista cient\\u00edfico Diurno\\u003cbr\\u003eRegi\\u00f3n de Antofagasta\",\"Humanista cient\\u00edfico Diurno\\u003cbr\\u003eRegi\\u00f3n de Antofagasta\",\"Humanista cient\\u00edfico Diurno\\u003cbr\\u003eRegi\\u00f3n de Arica y Parinacota\",\"Humanista cient\\u00edfico Diurno\\u003cbr\\u003eRegi\\u00f3n de Arica y Parinacota\",\"Humanista cient\\u00edfico Diurno\\u003cbr\\u003eRegi\\u00f3n de Atacama\",\"Humanista cient\\u00edfico Diurno\\u003cbr\\u003eRegi\\u00f3n de Atacama\",\"Humanista cient\\u00edfico Diurno\\u003cbr\\u003eRegi\\u00f3n de Ays\\u00e9n del General Carlos Ib\\u00e1\\u00f1ez del Campo\",\"Humanista cient\\u00edfico Diurno\\u003cbr\\u003eRegi\\u00f3n de Ays\\u00e9n del General Carlos Ib\\u00e1\\u00f1ez del Campo\",\"Humanista cient\\u00edfico Diurno\\u003cbr\\u003eRegi\\u00f3n de Coquimbo\",\"Humanista cient\\u00edfico Diurno\\u003cbr\\u003eRegi\\u00f3n de Coquimbo\",\"Humanista cient\\u00edfico Diurno\\u003cbr\\u003eRegi\\u00f3n de La Araucan\\u00eda\",\"Humanista cient\\u00edfico Diurno\\u003cbr\\u003eRegi\\u00f3n de La Araucan\\u00eda\",\"Humanista cient\\u00edfico Diurno\\u003cbr\\u003eRegi\\u00f3n de Los Lagos\",\"Humanista cient\\u00edfico Diurno\\u003cbr\\u003eRegi\\u00f3n de Los Lagos\",\"Humanista cient\\u00edfico Diurno\\u003cbr\\u003eRegi\\u00f3n de Los R\\u00edos\",\"Humanista cient\\u00edfico Diurno\\u003cbr\\u003eRegi\\u00f3n de Los R\\u00edos\",\"Humanista cient\\u00edfico Diurno\\u003cbr\\u003eRegi\\u00f3n de Magallanes y de la Ant\\u00e1rtica Chilena\",\"Humanista cient\\u00edfico Diurno\\u003cbr\\u003eRegi\\u00f3n de Magallanes y de la Ant\\u00e1rtica Chilena\",\"Humanista cient\\u00edfico Diurno\\u003cbr\\u003eRegi\\u00f3n de Tarapac\\u00e1\",\"Humanista cient\\u00edfico Diurno\\u003cbr\\u003eRegi\\u00f3n de Tarapac\\u00e1\",\"Humanista cient\\u00edfico Diurno\\u003cbr\\u003eRegi\\u00f3n de Valpara\\u00edso\",\"Humanista cient\\u00edfico Diurno\\u003cbr\\u003eRegi\\u00f3n de Valpara\\u00edso\",\"Humanista cient\\u00edfico Diurno\\u003cbr\\u003eRegi\\u00f3n de \\u00d1uble\",\"Humanista cient\\u00edfico Diurno\\u003cbr\\u003eRegi\\u00f3n de \\u00d1uble\",\"Humanista cient\\u00edfico Diurno\\u003cbr\\u003eRegi\\u00f3n del Biob\\u00edo\",\"Humanista cient\\u00edfico Diurno\\u003cbr\\u003eRegi\\u00f3n del Biob\\u00edo\",\"Humanista cient\\u00edfico Diurno\\u003cbr\\u003eRegi\\u00f3n del Libertador General Bernardo O'Higgins\",\"Humanista cient\\u00edfico Diurno\\u003cbr\\u003eRegi\\u00f3n del Libertador General Bernardo O'Higgins\",\"Humanista cient\\u00edfico Diurno\\u003cbr\\u003eRegi\\u00f3n del Maule\",\"Humanista cient\\u00edfico Diurno\\u003cbr\\u003eRegi\\u00f3n del Maule\",\"Humanista cient\\u00edfico Nocturno\\u003cbr\\u003eRegi\\u00f3n Metropolitana de Santiago\",\"Humanista cient\\u00edfico Nocturno\\u003cbr\\u003eRegi\\u00f3n Metropolitana de Santiago\",\"Humanista cient\\u00edfico Nocturno\\u003cbr\\u003eRegi\\u00f3n de Coquimbo\",\"Humanista cient\\u00edfico Nocturno\\u003cbr\\u003eRegi\\u00f3n de Coquimbo\",\"Humanista cient\\u00edfico Nocturno\\u003cbr\\u003eRegi\\u00f3n de La Araucan\\u00eda\",\"Humanista cient\\u00edfico Nocturno\\u003cbr\\u003eRegi\\u00f3n de La Araucan\\u00eda\",\"Humanista cient\\u00edfico Nocturno\\u003cbr\\u003eRegi\\u00f3n de Los Lagos\",\"Humanista cient\\u00edfico Nocturno\\u003cbr\\u003eRegi\\u00f3n de Los Lagos\",\"Humanista cient\\u00edfico Nocturno\\u003cbr\\u003eRegi\\u00f3n del Biob\\u00edo\",\"Humanista cient\\u00edfico Nocturno\\u003cbr\\u003eRegi\\u00f3n del Biob\\u00edo\",\"Humanista cient\\u00edfico Nocturno\\u003cbr\\u003eRegi\\u00f3n del Libertador General Bernardo O'Higgins\",\"Humanista cient\\u00edfico Nocturno\\u003cbr\\u003eRegi\\u00f3n del Libertador General Bernardo O'Higgins\",\"T\\u00e9cnico profesional Industrial\\u003cbr\\u003eRegi\\u00f3n Metropolitana de Santiago\",\"T\\u00e9cnico profesional Industrial\\u003cbr\\u003eRegi\\u00f3n Metropolitana de Santiago\",\"T\\u00e9cnico profesional Industrial\\u003cbr\\u003eRegi\\u00f3n de Antofagasta\",\"T\\u00e9cnico profesional Industrial\\u003cbr\\u003eRegi\\u00f3n de Antofagasta\",\"T\\u00e9cnico profesional Industrial\\u003cbr\\u003eRegi\\u00f3n de Atacama\",\"T\\u00e9cnico profesional Industrial\\u003cbr\\u003eRegi\\u00f3n de Atacama\",\"T\\u00e9cnico profesional Industrial\\u003cbr\\u003eRegi\\u00f3n de Coquimbo\",\"T\\u00e9cnico profesional Industrial\\u003cbr\\u003eRegi\\u00f3n de Coquimbo\",\"T\\u00e9cnico profesional Industrial\\u003cbr\\u003eRegi\\u00f3n de La Araucan\\u00eda\",\"T\\u00e9cnico profesional Industrial\\u003cbr\\u003eRegi\\u00f3n de La Araucan\\u00eda\",\"T\\u00e9cnico profesional Industrial\\u003cbr\\u003eRegi\\u00f3n de Los Lagos\",\"T\\u00e9cnico profesional Industrial\\u003cbr\\u003eRegi\\u00f3n de Los Lagos\",\"T\\u00e9cnico profesional Industrial\\u003cbr\\u003eRegi\\u00f3n de Valpara\\u00edso\",\"T\\u00e9cnico profesional Industrial\\u003cbr\\u003eRegi\\u00f3n de Valpara\\u00edso\",\"T\\u00e9cnico profesional Industrial\\u003cbr\\u003eRegi\\u00f3n del Biob\\u00edo\",\"T\\u00e9cnico profesional Industrial\\u003cbr\\u003eRegi\\u00f3n del Biob\\u00edo\",\"T\\u00e9cnico profesional Industrial\\u003cbr\\u003eRegi\\u00f3n del Libertador General Bernardo O'Higgins\",\"T\\u00e9cnico profesional Industrial\\u003cbr\\u003eRegi\\u00f3n del Libertador General Bernardo O'Higgins\",\"T\\u00e9cnico profesional Industrial\\u003cbr\\u003eRegi\\u00f3n del Maule\",\"T\\u00e9cnico profesional Industrial\\u003cbr\\u003eRegi\\u00f3n del Maule\",\"T\\u00e9cnico profesional Servicios y t\\u00e9cnica\\u003cbr\\u003eRegi\\u00f3n Metropolitana de Santiago\",\"T\\u00e9cnico profesional Servicios y t\\u00e9cnica\\u003cbr\\u003eRegi\\u00f3n Metropolitana de Santiago\",\"T\\u00e9cnico profesional Servicios y t\\u00e9cnica\\u003cbr\\u003eRegi\\u00f3n de Antofagasta\",\"T\\u00e9cnico profesional Servicios y t\\u00e9cnica\\u003cbr\\u003eRegi\\u00f3n de Antofagasta\",\"T\\u00e9cnico profesional Servicios y t\\u00e9cnica\\u003cbr\\u003eRegi\\u00f3n de La Araucan\\u00eda\",\"T\\u00e9cnico profesional Servicios y t\\u00e9cnica\\u003cbr\\u003eRegi\\u00f3n de La Araucan\\u00eda\",\"T\\u00e9cnico profesional Servicios y t\\u00e9cnica\\u003cbr\\u003eRegi\\u00f3n de Los Lagos\",\"T\\u00e9cnico profesional Servicios y t\\u00e9cnica\\u003cbr\\u003eRegi\\u00f3n de Los Lagos\",\"T\\u00e9cnico profesional Servicios y t\\u00e9cnica\\u003cbr\\u003eRegi\\u00f3n de Los R\\u00edos\",\"T\\u00e9cnico profesional Servicios y t\\u00e9cnica\\u003cbr\\u003eRegi\\u00f3n de Los R\\u00edos\",\"T\\u00e9cnico profesional Servicios y t\\u00e9cnica\\u003cbr\\u003eRegi\\u00f3n de Tarapac\\u00e1\",\"T\\u00e9cnico profesional Servicios y t\\u00e9cnica\\u003cbr\\u003eRegi\\u00f3n de Tarapac\\u00e1\",\"T\\u00e9cnico profesional Servicios y t\\u00e9cnica\\u003cbr\\u003eRegi\\u00f3n de Valpara\\u00edso\",\"T\\u00e9cnico profesional Servicios y t\\u00e9cnica\\u003cbr\\u003eRegi\\u00f3n de \\u00d1uble\",\"T\\u00e9cnico profesional Servicios y t\\u00e9cnica\\u003cbr\\u003eRegi\\u00f3n de \\u00d1uble\",\"T\\u00e9cnico profesional Servicios y t\\u00e9cnica\\u003cbr\\u003eRegi\\u00f3n del Biob\\u00edo\",\"T\\u00e9cnico profesional Servicios y t\\u00e9cnica\\u003cbr\\u003eRegi\\u00f3n del Biob\\u00edo\",\"T\\u00e9cnico profesional Servicios y t\\u00e9cnica\\u003cbr\\u003eRegi\\u00f3n del Libertador General Bernardo O'Higgins\",\"T\\u00e9cnico profesional Servicios y t\\u00e9cnica\\u003cbr\\u003eRegi\\u00f3n del Libertador General Bernardo O'Higgins\",\"T\\u00e9cnico profesional Servicios y t\\u00e9cnica\\u003cbr\\u003eRegi\\u00f3n del Maule\",\"T\\u00e9cnico profesional Servicios y t\\u00e9cnica\\u003cbr\\u003eRegi\\u00f3n del Maule\",\"T\\u00e9cnico profesional agr\\u00edcola\\u003cbr\\u003eRegi\\u00f3n de Los Lagos\",\"T\\u00e9cnico profesional agr\\u00edcola\\u003cbr\\u003eRegi\\u00f3n de Los Lagos\",\"T\\u00e9cnico profesional agr\\u00edcola\\u003cbr\\u003eRegi\\u00f3n del Maule\",\"T\\u00e9cnico profesional agr\\u00edcola\\u003cbr\\u003eRegi\\u00f3n del Maule\",\"T\\u00e9cnico profesional comercial\\u003cbr\\u003eRegi\\u00f3n Metropolitana de Santiago\",\"T\\u00e9cnico profesional comercial\\u003cbr\\u003eRegi\\u00f3n Metropolitana de Santiago\",\"T\\u00e9cnico profesional comercial\\u003cbr\\u003eRegi\\u00f3n de Antofagasta\",\"T\\u00e9cnico profesional comercial\\u003cbr\\u003eRegi\\u00f3n de Antofagasta\",\"T\\u00e9cnico profesional comercial\\u003cbr\\u003eRegi\\u00f3n de Coquimbo\",\"T\\u00e9cnico profesional comercial\\u003cbr\\u003eRegi\\u00f3n de Coquimbo\",\"T\\u00e9cnico profesional comercial\\u003cbr\\u003eRegi\\u00f3n de La Araucan\\u00eda\",\"T\\u00e9cnico profesional comercial\\u003cbr\\u003eRegi\\u00f3n de La Araucan\\u00eda\",\"T\\u00e9cnico profesional comercial\\u003cbr\\u003eRegi\\u00f3n de Los Lagos\",\"T\\u00e9cnico profesional comercial\\u003cbr\\u003eRegi\\u00f3n de Los Lagos\",\"T\\u00e9cnico profesional comercial\\u003cbr\\u003eRegi\\u00f3n de Los R\\u00edos\",\"T\\u00e9cnico profesional comercial\\u003cbr\\u003eRegi\\u00f3n de Los R\\u00edos\",\"T\\u00e9cnico profesional comercial\\u003cbr\\u003eRegi\\u00f3n de Valpara\\u00edso\",\"T\\u00e9cnico profesional comercial\\u003cbr\\u003eRegi\\u00f3n de Valpara\\u00edso\",\"T\\u00e9cnico profesional comercial\\u003cbr\\u003eRegi\\u00f3n de \\u00d1uble\",\"T\\u00e9cnico profesional comercial\\u003cbr\\u003eRegi\\u00f3n de \\u00d1uble\",\"T\\u00e9cnico profesional comercial\\u003cbr\\u003eRegi\\u00f3n del Biob\\u00edo\",\"T\\u00e9cnico profesional comercial\\u003cbr\\u003eRegi\\u00f3n del Biob\\u00edo\",\"T\\u00e9cnico profesional comercial\\u003cbr\\u003eRegi\\u00f3n del Libertador General Bernardo O'Higgins\",\"T\\u00e9cnico profesional comercial\\u003cbr\\u003eRegi\\u00f3n del Libertador General Bernardo O'Higgins\",\"T\\u00e9cnico profesional comercial\\u003cbr\\u003eRegi\\u00f3n del Maule\",\"T\\u00e9cnico profesional comercial\\u003cbr\\u003eRegi\\u00f3n del Maule\",\"Hombre\",\"Mujer\",\"Distribuci\\u00f3n de estudiantes por sexo\"],\"marker\":{\"coloraxis\":\"coloraxis\",\"colors\":[40.66,35.98,3.0900000000000003,2.87,1.36,1.58,0.9500000000000001,1.01,0.76,0.48,3.8000000000000003,4.48,5.800000000000001,5.59,3.52,4.0,1.74,1.77,0.75,0.78,0.99,0.9500000000000001,5.4,6.290000000000001,2.63,2.74,9.77,10.97,4.74,5.18,6.17,6.98,0.81,0.63,0.05000000000000001,0.03,0.10000000000000002,0.11,0.10000000000000002,0.06,0.12,0.10000000000000002,0.08,0.02,1.29,0.31,0.29,0.11,0.19,0.11,0.19,0.05000000000000001,0.18,0.03,0.18,0.04,0.27,0.10000000000000002,0.57,0.10000000000000002,0.35,0.23,0.41,0.17,0.28,1.15,0.02,0.08,0.11,0.31,0.05000000000000001,0.20000000000000004,0.06,0.08,0.04,0.19,0.07,0.03,0.12,0.01,0.24,0.06,0.29,0.11,0.4000000000000001,0.09,0.02,0.03,0.03,0.62,0.94,0.15,0.20000000000000004,0.05000000000000001,0.27,0.11,0.13,0.04,0.17,0.03,0.03,0.06,0.07,0.04,0.06,0.33,0.42999999999999994,0.17,0.34,0.18,0.36,19.276025205041005,16.249470158952313,17.762369381530924],\"line\":{\"width\":2}},\"name\":\"\",\"parents\":[\"Distribuci\\u00f3n de estudiantes por sexo\\u002fHombre\",\"Distribuci\\u00f3n de estudiantes por sexo\\u002fMujer\",\"Distribuci\\u00f3n de estudiantes por sexo\\u002fHombre\",\"Distribuci\\u00f3n de estudiantes por sexo\\u002fMujer\",\"Distribuci\\u00f3n de estudiantes por sexo\\u002fHombre\",\"Distribuci\\u00f3n de estudiantes por sexo\\u002fMujer\",\"Distribuci\\u00f3n de estudiantes por sexo\\u002fHombre\",\"Distribuci\\u00f3n de estudiantes por sexo\\u002fMujer\",\"Distribuci\\u00f3n de estudiantes por sexo\\u002fHombre\",\"Distribuci\\u00f3n de estudiantes por sexo\\u002fMujer\",\"Distribuci\\u00f3n de estudiantes por sexo\\u002fHombre\",\"Distribuci\\u00f3n de estudiantes por sexo\\u002fMujer\",\"Distribuci\\u00f3n de estudiantes por sexo\\u002fHombre\",\"Distribuci\\u00f3n de estudiantes por sexo\\u002fMujer\",\"Distribuci\\u00f3n de estudiantes por sexo\\u002fHombre\",\"Distribuci\\u00f3n de estudiantes por sexo\\u002fMujer\",\"Distribuci\\u00f3n de estudiantes por sexo\\u002fHombre\",\"Distribuci\\u00f3n de estudiantes por sexo\\u002fMujer\",\"Distribuci\\u00f3n de estudiantes por sexo\\u002fHombre\",\"Distribuci\\u00f3n de estudiantes por sexo\\u002fMujer\",\"Distribuci\\u00f3n de estudiantes por sexo\\u002fHombre\",\"Distribuci\\u00f3n de estudiantes por sexo\\u002fMujer\",\"Distribuci\\u00f3n de estudiantes por sexo\\u002fHombre\",\"Distribuci\\u00f3n de estudiantes por sexo\\u002fMujer\",\"Distribuci\\u00f3n de estudiantes por sexo\\u002fHombre\",\"Distribuci\\u00f3n de estudiantes por sexo\\u002fMujer\",\"Distribuci\\u00f3n de estudiantes por sexo\\u002fHombre\",\"Distribuci\\u00f3n de estudiantes por sexo\\u002fMujer\",\"Distribuci\\u00f3n de estudiantes por sexo\\u002fHombre\",\"Distribuci\\u00f3n de estudiantes por sexo\\u002fMujer\",\"Distribuci\\u00f3n de estudiantes por sexo\\u002fHombre\",\"Distribuci\\u00f3n de estudiantes por sexo\\u002fMujer\",\"Distribuci\\u00f3n de estudiantes por sexo\\u002fHombre\",\"Distribuci\\u00f3n de estudiantes por sexo\\u002fMujer\",\"Distribuci\\u00f3n de estudiantes por sexo\\u002fHombre\",\"Distribuci\\u00f3n de estudiantes por sexo\\u002fMujer\",\"Distribuci\\u00f3n de estudiantes por sexo\\u002fHombre\",\"Distribuci\\u00f3n de estudiantes por sexo\\u002fMujer\",\"Distribuci\\u00f3n de estudiantes por sexo\\u002fHombre\",\"Distribuci\\u00f3n de estudiantes por sexo\\u002fMujer\",\"Distribuci\\u00f3n de estudiantes por sexo\\u002fHombre\",\"Distribuci\\u00f3n de estudiantes por sexo\\u002fMujer\",\"Distribuci\\u00f3n de estudiantes por sexo\\u002fHombre\",\"Distribuci\\u00f3n de estudiantes por sexo\\u002fMujer\",\"Distribuci\\u00f3n de estudiantes por sexo\\u002fHombre\",\"Distribuci\\u00f3n de estudiantes por sexo\\u002fMujer\",\"Distribuci\\u00f3n de estudiantes por sexo\\u002fHombre\",\"Distribuci\\u00f3n de estudiantes por sexo\\u002fMujer\",\"Distribuci\\u00f3n de estudiantes por sexo\\u002fHombre\",\"Distribuci\\u00f3n de estudiantes por sexo\\u002fMujer\",\"Distribuci\\u00f3n de estudiantes por sexo\\u002fHombre\",\"Distribuci\\u00f3n de estudiantes por sexo\\u002fMujer\",\"Distribuci\\u00f3n de estudiantes por sexo\\u002fHombre\",\"Distribuci\\u00f3n de estudiantes por sexo\\u002fMujer\",\"Distribuci\\u00f3n de estudiantes por sexo\\u002fHombre\",\"Distribuci\\u00f3n de estudiantes por sexo\\u002fMujer\",\"Distribuci\\u00f3n de estudiantes por sexo\\u002fHombre\",\"Distribuci\\u00f3n de estudiantes por sexo\\u002fMujer\",\"Distribuci\\u00f3n de estudiantes por sexo\\u002fHombre\",\"Distribuci\\u00f3n de estudiantes por sexo\\u002fMujer\",\"Distribuci\\u00f3n de estudiantes por sexo\\u002fHombre\",\"Distribuci\\u00f3n de estudiantes por sexo\\u002fMujer\",\"Distribuci\\u00f3n de estudiantes por sexo\\u002fHombre\",\"Distribuci\\u00f3n de estudiantes por sexo\\u002fMujer\",\"Distribuci\\u00f3n de estudiantes por sexo\\u002fHombre\",\"Distribuci\\u00f3n de estudiantes por sexo\\u002fMujer\",\"Distribuci\\u00f3n de estudiantes por sexo\\u002fHombre\",\"Distribuci\\u00f3n de estudiantes por sexo\\u002fMujer\",\"Distribuci\\u00f3n de estudiantes por sexo\\u002fHombre\",\"Distribuci\\u00f3n de estudiantes por sexo\\u002fMujer\",\"Distribuci\\u00f3n de estudiantes por sexo\\u002fHombre\",\"Distribuci\\u00f3n de estudiantes por sexo\\u002fMujer\",\"Distribuci\\u00f3n de estudiantes por sexo\\u002fHombre\",\"Distribuci\\u00f3n de estudiantes por sexo\\u002fMujer\",\"Distribuci\\u00f3n de estudiantes por sexo\\u002fHombre\",\"Distribuci\\u00f3n de estudiantes por sexo\\u002fMujer\",\"Distribuci\\u00f3n de estudiantes por sexo\\u002fMujer\",\"Distribuci\\u00f3n de estudiantes por sexo\\u002fHombre\",\"Distribuci\\u00f3n de estudiantes por sexo\\u002fMujer\",\"Distribuci\\u00f3n de estudiantes por sexo\\u002fHombre\",\"Distribuci\\u00f3n de estudiantes por sexo\\u002fMujer\",\"Distribuci\\u00f3n de estudiantes por sexo\\u002fHombre\",\"Distribuci\\u00f3n de estudiantes por sexo\\u002fMujer\",\"Distribuci\\u00f3n de estudiantes por sexo\\u002fHombre\",\"Distribuci\\u00f3n de estudiantes por sexo\\u002fMujer\",\"Distribuci\\u00f3n de estudiantes por sexo\\u002fHombre\",\"Distribuci\\u00f3n de estudiantes por sexo\\u002fMujer\",\"Distribuci\\u00f3n de estudiantes por sexo\\u002fHombre\",\"Distribuci\\u00f3n de estudiantes por sexo\\u002fMujer\",\"Distribuci\\u00f3n de estudiantes por sexo\\u002fHombre\",\"Distribuci\\u00f3n de estudiantes por sexo\\u002fMujer\",\"Distribuci\\u00f3n de estudiantes por sexo\\u002fHombre\",\"Distribuci\\u00f3n de estudiantes por sexo\\u002fMujer\",\"Distribuci\\u00f3n de estudiantes por sexo\\u002fHombre\",\"Distribuci\\u00f3n de estudiantes por sexo\\u002fMujer\",\"Distribuci\\u00f3n de estudiantes por sexo\\u002fHombre\",\"Distribuci\\u00f3n de estudiantes por sexo\\u002fMujer\",\"Distribuci\\u00f3n de estudiantes por sexo\\u002fHombre\",\"Distribuci\\u00f3n de estudiantes por sexo\\u002fMujer\",\"Distribuci\\u00f3n de estudiantes por sexo\\u002fHombre\",\"Distribuci\\u00f3n de estudiantes por sexo\\u002fMujer\",\"Distribuci\\u00f3n de estudiantes por sexo\\u002fHombre\",\"Distribuci\\u00f3n de estudiantes por sexo\\u002fMujer\",\"Distribuci\\u00f3n de estudiantes por sexo\\u002fHombre\",\"Distribuci\\u00f3n de estudiantes por sexo\\u002fMujer\",\"Distribuci\\u00f3n de estudiantes por sexo\\u002fHombre\",\"Distribuci\\u00f3n de estudiantes por sexo\\u002fMujer\",\"Distribuci\\u00f3n de estudiantes por sexo\\u002fHombre\",\"Distribuci\\u00f3n de estudiantes por sexo\\u002fMujer\",\"Distribuci\\u00f3n de estudiantes por sexo\\u002fHombre\",\"Distribuci\\u00f3n de estudiantes por sexo\\u002fMujer\",\"Distribuci\\u00f3n de estudiantes por sexo\",\"Distribuci\\u00f3n de estudiantes por sexo\",\"\"],\"values\":[40.66,35.98,3.09,2.87,1.36,1.58,0.95,1.01,0.76,0.48,3.8,4.48,5.8,5.59,3.52,4.0,1.74,1.77,0.75,0.78,0.99,0.95,5.4,6.29,2.63,2.74,9.77,10.97,4.74,5.18,6.17,6.98,0.81,0.63,0.05,0.03,0.1,0.11,0.1,0.06,0.12,0.1,0.08,0.02,1.29,0.31,0.29,0.11,0.19,0.11,0.19,0.05,0.18,0.03,0.18,0.04,0.27,0.1,0.57,0.1,0.35,0.23,0.41,0.17,0.28,1.15,0.02,0.08,0.11,0.31,0.05,0.2,0.06,0.08,0.04,0.19,0.07,0.03,0.12,0.01,0.24,0.06,0.29,0.11,0.4,0.09,0.02,0.03,0.03,0.62,0.94,0.15,0.2,0.05,0.27,0.11,0.13,0.04,0.17,0.03,0.03,0.06,0.07,0.04,0.06,0.33,0.43,0.17,0.34,0.18,0.36,99.97999999999999,100.03,200.01],\"type\":\"treemap\",\"textfont\":{\"size\":18},\"tiling\":{\"pad\":1,\"squarifyratio\":1.0},\"textinfo\":\"label+text+value\",\"texttemplate\":\"%{label}\\u003cbr\\u003e%{value}%\"}],                        {\"template\":{\"data\":{\"histogram2dcontour\":[{\"type\":\"histogram2dcontour\",\"colorbar\":{\"outlinewidth\":0,\"ticks\":\"\"},\"colorscale\":[[0.0,\"#0d0887\"],[0.1111111111111111,\"#46039f\"],[0.2222222222222222,\"#7201a8\"],[0.3333333333333333,\"#9c179e\"],[0.4444444444444444,\"#bd3786\"],[0.5555555555555556,\"#d8576b\"],[0.6666666666666666,\"#ed7953\"],[0.7777777777777778,\"#fb9f3a\"],[0.8888888888888888,\"#fdca26\"],[1.0,\"#f0f921\"]]}],\"choropleth\":[{\"type\":\"choropleth\",\"colorbar\":{\"outlinewidth\":0,\"ticks\":\"\"}}],\"histogram2d\":[{\"type\":\"histogram2d\",\"colorbar\":{\"outlinewidth\":0,\"ticks\":\"\"},\"colorscale\":[[0.0,\"#0d0887\"],[0.1111111111111111,\"#46039f\"],[0.2222222222222222,\"#7201a8\"],[0.3333333333333333,\"#9c179e\"],[0.4444444444444444,\"#bd3786\"],[0.5555555555555556,\"#d8576b\"],[0.6666666666666666,\"#ed7953\"],[0.7777777777777778,\"#fb9f3a\"],[0.8888888888888888,\"#fdca26\"],[1.0,\"#f0f921\"]]}],\"heatmap\":[{\"type\":\"heatmap\",\"colorbar\":{\"outlinewidth\":0,\"ticks\":\"\"},\"colorscale\":[[0.0,\"#0d0887\"],[0.1111111111111111,\"#46039f\"],[0.2222222222222222,\"#7201a8\"],[0.3333333333333333,\"#9c179e\"],[0.4444444444444444,\"#bd3786\"],[0.5555555555555556,\"#d8576b\"],[0.6666666666666666,\"#ed7953\"],[0.7777777777777778,\"#fb9f3a\"],[0.8888888888888888,\"#fdca26\"],[1.0,\"#f0f921\"]]}],\"heatmapgl\":[{\"type\":\"heatmapgl\",\"colorbar\":{\"outlinewidth\":0,\"ticks\":\"\"},\"colorscale\":[[0.0,\"#0d0887\"],[0.1111111111111111,\"#46039f\"],[0.2222222222222222,\"#7201a8\"],[0.3333333333333333,\"#9c179e\"],[0.4444444444444444,\"#bd3786\"],[0.5555555555555556,\"#d8576b\"],[0.6666666666666666,\"#ed7953\"],[0.7777777777777778,\"#fb9f3a\"],[0.8888888888888888,\"#fdca26\"],[1.0,\"#f0f921\"]]}],\"contourcarpet\":[{\"type\":\"contourcarpet\",\"colorbar\":{\"outlinewidth\":0,\"ticks\":\"\"}}],\"contour\":[{\"type\":\"contour\",\"colorbar\":{\"outlinewidth\":0,\"ticks\":\"\"},\"colorscale\":[[0.0,\"#0d0887\"],[0.1111111111111111,\"#46039f\"],[0.2222222222222222,\"#7201a8\"],[0.3333333333333333,\"#9c179e\"],[0.4444444444444444,\"#bd3786\"],[0.5555555555555556,\"#d8576b\"],[0.6666666666666666,\"#ed7953\"],[0.7777777777777778,\"#fb9f3a\"],[0.8888888888888888,\"#fdca26\"],[1.0,\"#f0f921\"]]}],\"surface\":[{\"type\":\"surface\",\"colorbar\":{\"outlinewidth\":0,\"ticks\":\"\"},\"colorscale\":[[0.0,\"#0d0887\"],[0.1111111111111111,\"#46039f\"],[0.2222222222222222,\"#7201a8\"],[0.3333333333333333,\"#9c179e\"],[0.4444444444444444,\"#bd3786\"],[0.5555555555555556,\"#d8576b\"],[0.6666666666666666,\"#ed7953\"],[0.7777777777777778,\"#fb9f3a\"],[0.8888888888888888,\"#fdca26\"],[1.0,\"#f0f921\"]]}],\"mesh3d\":[{\"type\":\"mesh3d\",\"colorbar\":{\"outlinewidth\":0,\"ticks\":\"\"}}],\"scatter\":[{\"fillpattern\":{\"fillmode\":\"overlay\",\"size\":10,\"solidity\":0.2},\"type\":\"scatter\"}],\"parcoords\":[{\"type\":\"parcoords\",\"line\":{\"colorbar\":{\"outlinewidth\":0,\"ticks\":\"\"}}}],\"scatterpolargl\":[{\"type\":\"scatterpolargl\",\"marker\":{\"colorbar\":{\"outlinewidth\":0,\"ticks\":\"\"}}}],\"bar\":[{\"error_x\":{\"color\":\"#2a3f5f\"},\"error_y\":{\"color\":\"#2a3f5f\"},\"marker\":{\"line\":{\"color\":\"#E5ECF6\",\"width\":0.5},\"pattern\":{\"fillmode\":\"overlay\",\"size\":10,\"solidity\":0.2}},\"type\":\"bar\"}],\"scattergeo\":[{\"type\":\"scattergeo\",\"marker\":{\"colorbar\":{\"outlinewidth\":0,\"ticks\":\"\"}}}],\"scatterpolar\":[{\"type\":\"scatterpolar\",\"marker\":{\"colorbar\":{\"outlinewidth\":0,\"ticks\":\"\"}}}],\"histogram\":[{\"marker\":{\"pattern\":{\"fillmode\":\"overlay\",\"size\":10,\"solidity\":0.2}},\"type\":\"histogram\"}],\"scattergl\":[{\"type\":\"scattergl\",\"marker\":{\"colorbar\":{\"outlinewidth\":0,\"ticks\":\"\"}}}],\"scatter3d\":[{\"type\":\"scatter3d\",\"line\":{\"colorbar\":{\"outlinewidth\":0,\"ticks\":\"\"}},\"marker\":{\"colorbar\":{\"outlinewidth\":0,\"ticks\":\"\"}}}],\"scattermapbox\":[{\"type\":\"scattermapbox\",\"marker\":{\"colorbar\":{\"outlinewidth\":0,\"ticks\":\"\"}}}],\"scatterternary\":[{\"type\":\"scatterternary\",\"marker\":{\"colorbar\":{\"outlinewidth\":0,\"ticks\":\"\"}}}],\"scattercarpet\":[{\"type\":\"scattercarpet\",\"marker\":{\"colorbar\":{\"outlinewidth\":0,\"ticks\":\"\"}}}],\"carpet\":[{\"aaxis\":{\"endlinecolor\":\"#2a3f5f\",\"gridcolor\":\"white\",\"linecolor\":\"white\",\"minorgridcolor\":\"white\",\"startlinecolor\":\"#2a3f5f\"},\"baxis\":{\"endlinecolor\":\"#2a3f5f\",\"gridcolor\":\"white\",\"linecolor\":\"white\",\"minorgridcolor\":\"white\",\"startlinecolor\":\"#2a3f5f\"},\"type\":\"carpet\"}],\"table\":[{\"cells\":{\"fill\":{\"color\":\"#EBF0F8\"},\"line\":{\"color\":\"white\"}},\"header\":{\"fill\":{\"color\":\"#C8D4E3\"},\"line\":{\"color\":\"white\"}},\"type\":\"table\"}],\"barpolar\":[{\"marker\":{\"line\":{\"color\":\"#E5ECF6\",\"width\":0.5},\"pattern\":{\"fillmode\":\"overlay\",\"size\":10,\"solidity\":0.2}},\"type\":\"barpolar\"}],\"pie\":[{\"automargin\":true,\"type\":\"pie\"}]},\"layout\":{\"autotypenumbers\":\"strict\",\"colorway\":[\"#636efa\",\"#EF553B\",\"#00cc96\",\"#ab63fa\",\"#FFA15A\",\"#19d3f3\",\"#FF6692\",\"#B6E880\",\"#FF97FF\",\"#FECB52\"],\"font\":{\"color\":\"#2a3f5f\"},\"hovermode\":\"closest\",\"hoverlabel\":{\"align\":\"left\"},\"paper_bgcolor\":\"white\",\"plot_bgcolor\":\"#E5ECF6\",\"polar\":{\"bgcolor\":\"#E5ECF6\",\"angularaxis\":{\"gridcolor\":\"white\",\"linecolor\":\"white\",\"ticks\":\"\"},\"radialaxis\":{\"gridcolor\":\"white\",\"linecolor\":\"white\",\"ticks\":\"\"}},\"ternary\":{\"bgcolor\":\"#E5ECF6\",\"aaxis\":{\"gridcolor\":\"white\",\"linecolor\":\"white\",\"ticks\":\"\"},\"baxis\":{\"gridcolor\":\"white\",\"linecolor\":\"white\",\"ticks\":\"\"},\"caxis\":{\"gridcolor\":\"white\",\"linecolor\":\"white\",\"ticks\":\"\"}},\"coloraxis\":{\"colorbar\":{\"outlinewidth\":0,\"ticks\":\"\"}},\"colorscale\":{\"sequential\":[[0.0,\"#0d0887\"],[0.1111111111111111,\"#46039f\"],[0.2222222222222222,\"#7201a8\"],[0.3333333333333333,\"#9c179e\"],[0.4444444444444444,\"#bd3786\"],[0.5555555555555556,\"#d8576b\"],[0.6666666666666666,\"#ed7953\"],[0.7777777777777778,\"#fb9f3a\"],[0.8888888888888888,\"#fdca26\"],[1.0,\"#f0f921\"]],\"sequentialminus\":[[0.0,\"#0d0887\"],[0.1111111111111111,\"#46039f\"],[0.2222222222222222,\"#7201a8\"],[0.3333333333333333,\"#9c179e\"],[0.4444444444444444,\"#bd3786\"],[0.5555555555555556,\"#d8576b\"],[0.6666666666666666,\"#ed7953\"],[0.7777777777777778,\"#fb9f3a\"],[0.8888888888888888,\"#fdca26\"],[1.0,\"#f0f921\"]],\"diverging\":[[0,\"#8e0152\"],[0.1,\"#c51b7d\"],[0.2,\"#de77ae\"],[0.3,\"#f1b6da\"],[0.4,\"#fde0ef\"],[0.5,\"#f7f7f7\"],[0.6,\"#e6f5d0\"],[0.7,\"#b8e186\"],[0.8,\"#7fbc41\"],[0.9,\"#4d9221\"],[1,\"#276419\"]]},\"xaxis\":{\"gridcolor\":\"white\",\"linecolor\":\"white\",\"ticks\":\"\",\"title\":{\"standoff\":15},\"zerolinecolor\":\"white\",\"automargin\":true,\"zerolinewidth\":2},\"yaxis\":{\"gridcolor\":\"white\",\"linecolor\":\"white\",\"ticks\":\"\",\"title\":{\"standoff\":15},\"zerolinecolor\":\"white\",\"automargin\":true,\"zerolinewidth\":2},\"scene\":{\"xaxis\":{\"backgroundcolor\":\"#E5ECF6\",\"gridcolor\":\"white\",\"linecolor\":\"white\",\"showbackground\":true,\"ticks\":\"\",\"zerolinecolor\":\"white\",\"gridwidth\":2},\"yaxis\":{\"backgroundcolor\":\"#E5ECF6\",\"gridcolor\":\"white\",\"linecolor\":\"white\",\"showbackground\":true,\"ticks\":\"\",\"zerolinecolor\":\"white\",\"gridwidth\":2},\"zaxis\":{\"backgroundcolor\":\"#E5ECF6\",\"gridcolor\":\"white\",\"linecolor\":\"white\",\"showbackground\":true,\"ticks\":\"\",\"zerolinecolor\":\"white\",\"gridwidth\":2}},\"shapedefaults\":{\"line\":{\"color\":\"#2a3f5f\"}},\"annotationdefaults\":{\"arrowcolor\":\"#2a3f5f\",\"arrowhead\":0,\"arrowwidth\":1},\"geo\":{\"bgcolor\":\"white\",\"landcolor\":\"#E5ECF6\",\"subunitcolor\":\"white\",\"showland\":true,\"showlakes\":true,\"lakecolor\":\"white\"},\"title\":{\"x\":0.05},\"mapbox\":{\"style\":\"light\"}}},\"coloraxis\":{\"colorbar\":{\"title\":{\"text\":\"\\u003cb\\u003eDistribuci\\u00f3n de\\u003cbr\\u003eestudiantes en %\\u003c\\u002fb\\u003e\",\"font\":{\"size\":18,\"family\":\"Econ Sans Cnd\"}},\"tickfont\":{\"size\":16},\"orientation\":\"h\",\"x\":0.79,\"y\":1.02,\"thickness\":17,\"len\":0.42,\"tickvals\":[0,5,10,15,20,25,30,35,40],\"ticktext\":[\"0\",\"5\",\"10\",\"15\",\"20\",\"25\",\"30\",\"35\",\"40\"],\"ticks\":\"outside\",\"tickwidth\":1,\"ticklen\":10},\"colorscale\":[[0.0,\"#440154\"],[0.1111111111111111,\"#482878\"],[0.2222222222222222,\"#3e4989\"],[0.3333333333333333,\"#31688e\"],[0.4444444444444444,\"#26828e\"],[0.5555555555555556,\"#1f9e89\"],[0.6666666666666666,\"#35b779\"],[0.7777777777777778,\"#6ece58\"],[0.8888888888888888,\"#b5de2b\"],[1.0,\"#fde725\"]]},\"legend\":{\"tracegroupgap\":0},\"margin\":{\"t\":200,\"b\":150},\"height\":1000,\"annotations\":[{\"font\":{\"color\":\"black\",\"family\":\"Econ Sans Cnd\",\"size\":26},\"showarrow\":false,\"text\":\"\\u003cb\\u003eDistribuci\\u00f3n de Estudiantes por Sexo, Rama Educacional y Regi\\u00f3n\\u003c\\u002fb\\u003e\",\"x\":0,\"xanchor\":\"left\",\"xref\":\"paper\",\"y\":1.15,\"yanchor\":\"top\",\"yref\":\"paper\"},{\"font\":{\"color\":\"gray\",\"family\":\"Econ Sans Cnd\",\"size\":22},\"showarrow\":false,\"text\":\"\\u003cb\\u003eAn\\u00e1lisis de Admisiones PAES 2025\\u003c\\u002fb\\u003e\",\"x\":0,\"xanchor\":\"left\",\"xref\":\"paper\",\"y\":1.1,\"yanchor\":\"top\",\"yref\":\"paper\"},{\"font\":{\"color\":\"#a2a2a2\",\"family\":\"Econ Sans Cnd\",\"size\":18},\"showarrow\":false,\"text\":\"\\u003cb\\u003eFuente: Datos de Admisiones PAES 2025, Ministerio de Educaci\\u00f3n de Chile\\u003c\\u002fb\\u003e\",\"x\":0,\"xanchor\":\"left\",\"xref\":\"paper\",\"y\":-0.05,\"yanchor\":\"bottom\",\"yref\":\"paper\"},{\"font\":{\"color\":\"#a2a2a2\",\"family\":\"Econ Sans Cnd\",\"size\":18},\"showarrow\":false,\"text\":\"\\u003cb\\u003eNota: Datos correspondientes al proceso de admisi\\u00f3n 2025\\u003c\\u002fb\\u003e\",\"x\":1,\"xanchor\":\"right\",\"xref\":\"paper\",\"y\":-0.05,\"yanchor\":\"bottom\",\"yref\":\"paper\"}],\"shapes\":[{\"line\":{\"color\":\"red\",\"width\":1},\"type\":\"line\",\"x0\":0,\"x1\":1,\"xref\":\"paper\",\"y0\":1.17,\"y1\":1.17,\"yref\":\"paper\"},{\"fillcolor\":\"red\",\"line\":{\"color\":\"red\",\"width\":0},\"type\":\"rect\",\"x0\":0,\"x1\":0.05,\"xref\":\"paper\",\"y0\":1.145,\"y1\":1.17,\"yref\":\"paper\"}]},                        {\"responsive\": true}                    ).then(function(){\n",
       "                            \n",
       "var gd = document.getElementById('e52321e7-a4eb-4760-a3bc-408ed90b8c6a');\n",
       "var x = new MutationObserver(function (mutations, observer) {{\n",
       "        var display = window.getComputedStyle(gd).display;\n",
       "        if (!display || display === 'none') {{\n",
       "            console.log([gd, 'removed!']);\n",
       "            Plotly.purge(gd);\n",
       "            observer.disconnect();\n",
       "        }}\n",
       "}});\n",
       "\n",
       "// Listen for the removal of the full notebook cells\n",
       "var notebookContainer = gd.closest('#notebook-container');\n",
       "if (notebookContainer) {{\n",
       "    x.observe(notebookContainer, {childList: true});\n",
       "}}\n",
       "\n",
       "// Listen for the clearing of the current output cell\n",
       "var outputEl = gd.closest('.output');\n",
       "if (outputEl) {{\n",
       "    x.observe(outputEl, {childList: true});\n",
       "}}\n",
       "\n",
       "                        })                };                });            </script>        </div>"
      ]
     },
     "metadata": {},
     "output_type": "display_data"
    }
   ],
   "source": [
    "# Función para crear el treemap\n",
    "def crear_treemap(distribution: pd.DataFrame) -> None:\n",
    "    fig = px.treemap(\n",
    "        distribution, \n",
    "        path=['general_label', 'sexo', 'label_with_percentage'], \n",
    "        values='percentage', \n",
    "        color='percentage',  \n",
    "        color_continuous_scale='Viridis',  \n",
    "        labels={'percentage': 'Distribución de estudiantes en %'},\n",
    "        hover_data={'count': True}\n",
    "    )\n",
    "    \n",
    "    # Personalización del diseño\n",
    "    fig.update_layout(\n",
    "        height=1000,  \n",
    "        margin=dict(t=200, b=150),\n",
    "        coloraxis_colorbar=dict(\n",
    "            title=dict(\n",
    "                text=\"<b>Distribución de<br>estudiantes en %</b>\",  \n",
    "                font=dict(size=18, family=\"Econ Sans Cnd\")\n",
    "            ),\n",
    "            orientation='h',  \n",
    "            x=0.79,  \n",
    "            y=1.02,  \n",
    "            thickness=17,\n",
    "            len=0.42,\n",
    "            tickvals=[0, 5, 10, 15, 20, 25, 30, 35, 40],\n",
    "            ticktext=['0', '5', '10', '15', '20', '25', '30', '35', '40'],\n",
    "            tickfont=dict(size=16),\n",
    "            ticks=\"outside\",\n",
    "            tickwidth=1,\n",
    "            ticklen=10\n",
    "        ),\n",
    "        annotations=[\n",
    "            # Título principal\n",
    "            dict(\n",
    "                x=0, y=1.15,\n",
    "                text=\"<b>Distribución de Estudiantes por Sexo, Rama Educacional y Región</b>\",\n",
    "                showarrow=False,\n",
    "                font=dict(size=26, color=\"black\", family=\"Econ Sans Cnd\"),\n",
    "                xref=\"paper\", yref=\"paper\",\n",
    "                xanchor=\"left\", yanchor=\"top\"\n",
    "            ),\n",
    "            # Subtítulo\n",
    "            dict(\n",
    "                x=0, y=1.10,\n",
    "                text=\"<b>Análisis de Admisiones PAES 2025</b>\",\n",
    "                showarrow=False,\n",
    "                font=dict(size=22, color=\"gray\", family=\"Econ Sans Cnd\"),\n",
    "                xref=\"paper\", yref=\"paper\",\n",
    "                xanchor=\"left\", yanchor=\"top\"\n",
    "            ),\n",
    "            # Anotaciones inferiores\n",
    "            dict(\n",
    "                x=0, y=-0.05,\n",
    "                text='<b>Fuente: Datos de Admisiones PAES 2025, Ministerio de Educación de Chile</b>',\n",
    "                showarrow=False,\n",
    "                font=dict(size=18, color=\"#a2a2a2\", family=\"Econ Sans Cnd\"),\n",
    "                xref=\"paper\", yref=\"paper\",\n",
    "                xanchor=\"left\", yanchor=\"bottom\"\n",
    "            ),\n",
    "            dict(\n",
    "                x=1, y=-0.05,\n",
    "                text=\"<b>Nota: Datos correspondientes al proceso de admisión 2025</b>\",\n",
    "                showarrow=False,\n",
    "                font=dict(size=18, color=\"#a2a2a2\", family=\"Econ Sans Cnd\"),\n",
    "                xref=\"paper\", yref=\"paper\",\n",
    "                xanchor=\"right\", yanchor=\"bottom\"\n",
    "            )\n",
    "        ],\n",
    "        shapes=[\n",
    "            # Línea horizontal superior\n",
    "            dict(\n",
    "                type=\"line\",\n",
    "                x0=0, y0=1.17, x1=1, y1=1.17,\n",
    "                line=dict(color=\"red\", width=1),\n",
    "                xref=\"paper\", yref=\"paper\"\n",
    "            ),\n",
    "            # Rectángulo decorativo\n",
    "            dict(\n",
    "                type=\"rect\",\n",
    "                x0=0, y0=1.145, x1=0.05, y1=1.17,\n",
    "                line=dict(color=\"red\", width=0),\n",
    "                fillcolor=\"red\",\n",
    "                xref=\"paper\", yref=\"paper\"\n",
    "            )\n",
    "        ]\n",
    "    )\n",
    "    \n",
    "    # Ajustes adicionales al treemap\n",
    "    fig.update_traces(\n",
    "        marker=dict(line=dict(width=2)),\n",
    "        textinfo='label+text+value',\n",
    "        textfont_size=18,  \n",
    "        texttemplate='%{label}<br>%{value}%',\n",
    "        tiling=dict(pad=1, squarifyratio=1.0)\n",
    "    )\n",
    "    \n",
    "    fig.show()\n",
    "\n",
    "# Generamos el treemap\n",
    "crear_treemap(distribution)"
   ]
  }
 ],
 "metadata": {
  "kernelspec": {
   "display_name": "Python 3 (ipykernel)",
   "language": "python",
   "name": "python3"
  },
  "language_info": {
   "codemirror_mode": {
    "name": "ipython",
    "version": 3
   },
   "file_extension": ".py",
   "mimetype": "text/x-python",
   "name": "python",
   "nbconvert_exporter": "python",
   "pygments_lexer": "ipython3",
   "version": "3.12.7"
  }
 },
 "nbformat": 4,
 "nbformat_minor": 2
}
